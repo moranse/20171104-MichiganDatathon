{
 "cells": [
  {
   "cell_type": "code",
   "execution_count": null,
   "metadata": {
    "collapsed": true
   },
   "outputs": [],
   "source": [
    "# Obviously\n",
    "import pandas as pd\n",
    "import numpy as np\n",
    "\n",
    "# Plotting set-up\n",
    "import matplotlib as mpl\n",
    "import matplotlib.pyplot as plt\n",
    "from matplotlib import rc\n",
    "# Command to reset plot styles to default: mpl.rcParams.update(mpl.rcParamsDefault)\n",
    "plt.style.use('seaborn-poster')\n",
    "mpl.rcParams['font.family'] = 'serif'\n",
    "% matplotlib inline\n",
    "\n",
    "# Other packages we might need\n",
    "#! pip install quandl\n",
    "import quandl\n",
    "\n",
    "# Options\n",
    "pd.set_option('display.height', 500)\n",
    "pd.set_option('display.max_rows', 500)\n",
    "data_folder = 'data/'"
   ]
  }
 ],
 "metadata": {
  "kernelspec": {
   "display_name": "Python 3",
   "language": "python",
   "name": "python3"
  },
  "language_info": {
   "codemirror_mode": {
    "name": "ipython",
    "version": 3
   },
   "file_extension": ".py",
   "mimetype": "text/x-python",
   "name": "python",
   "nbconvert_exporter": "python",
   "pygments_lexer": "ipython3",
   "version": "3.5.3"
  }
 },
 "nbformat": 4,
 "nbformat_minor": 0
}
