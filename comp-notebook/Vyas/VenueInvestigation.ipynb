{
 "cells": [
  {
   "cell_type": "markdown",
   "metadata": {},
   "source": [
    "# "
   ]
  },
  {
   "cell_type": "code",
   "execution_count": 1,
   "metadata": {
    "collapsed": true
   },
   "outputs": [],
   "source": [
    "# Obviously\n",
    "import pandas as pd\n",
    "import numpy as np\n",
    "\n",
    "# Plotting set-up\n",
    "import matplotlib as mpl\n",
    "import matplotlib.pyplot as plt\n",
    "from matplotlib import rc\n",
    "# Command to reset plot styles to default: mpl.rcParams.update(mpl.rcParamsDefault)\n",
    "plt.style.use('seaborn-poster')\n",
    "mpl.rcParams['font.family'] = 'serif'\n",
    "% matplotlib inline\n",
    "\n",
    "# Other packages we might need\n",
    "#! pip install quandl\n",
    "import quandl\n",
    "\n",
    "# Options\n",
    "pd.set_option('display.height', 500)\n",
    "pd.set_option('display.max_rows', 500)\n",
    "data_folder = 'data/'"
   ]
  },
  {
   "cell_type": "code",
   "execution_count": 2,
   "metadata": {
    "collapsed": true
   },
   "outputs": [],
   "source": [
    "data_folder = '../../data/'\n",
    "venues = pd.read_csv(data_folder + 'venues.csv.gz')\n"
   ]
  },
  {
   "cell_type": "code",
   "execution_count": 30,
   "metadata": {
    "collapsed": false,
    "scrolled": true
   },
   "outputs": [],
   "source": [
    "#all_types = set([t for t in typ_list for typ_list in venues['types']])\n",
    "all_types = []\n",
    "for typ_list in venues['types']:\n",
    "    all_types.extend(\n",
    "        re.sub('[\\[\\]\\']', \"\", typ_list).split(', ')\n",
    "    )\n",
    "all_types = list(set(all_types))"
   ]
  },
  {
   "cell_type": "code",
   "execution_count": 31,
   "metadata": {
    "collapsed": false
   },
   "outputs": [
    {
     "data": {
      "text/plain": [
       "['stadium',\n",
       " 'beauty_salon',\n",
       " 'post_office',\n",
       " 'parking',\n",
       " 'police',\n",
       " 'restaurant',\n",
       " 'car_rental',\n",
       " 'store',\n",
       " 'storage',\n",
       " 'car_dealer',\n",
       " 'university',\n",
       " 'furniture_store',\n",
       " 'hardware_store',\n",
       " 'roofing_contractor',\n",
       " 'train_station',\n",
       " 'city_hall',\n",
       " 'place_of_worship',\n",
       " 'home_goods_store',\n",
       " 'florist',\n",
       " 'movie_rental',\n",
       " 'natural_feature',\n",
       " 'library',\n",
       " 'gas_station',\n",
       " 'campground',\n",
       " 'night_club',\n",
       " 'courthouse',\n",
       " 'spa',\n",
       " 'locksmith',\n",
       " 'accounting',\n",
       " 'insurance_agency',\n",
       " 'airport',\n",
       " 'gym',\n",
       " 'aquarium',\n",
       " 'electronics_store',\n",
       " 'cemetery',\n",
       " 'amusement_park',\n",
       " 'doctor',\n",
       " 'movie_theater',\n",
       " 'hospital',\n",
       " 'travel_agency',\n",
       " 'park',\n",
       " 'rv_park',\n",
       " 'bus_station',\n",
       " 'transit_station',\n",
       " 'grocery_or_supermarket',\n",
       " 'church',\n",
       " 'meal_takeaway',\n",
       " 'bicycle_store',\n",
       " 'cafe',\n",
       " 'dentist',\n",
       " 'neighborhood',\n",
       " 'synagogue',\n",
       " 'casino',\n",
       " 'art_gallery',\n",
       " 'meal_delivery',\n",
       " 'car_repair',\n",
       " 'laundry',\n",
       " 'book_store',\n",
       " 'convenience_store',\n",
       " 'subpremise',\n",
       " 'lawyer',\n",
       " 'bar',\n",
       " 'hair_care',\n",
       " 'electrician',\n",
       " 'plumber',\n",
       " 'liquor_store',\n",
       " 'local_government_office',\n",
       " 'light_rail_station',\n",
       " 'bank',\n",
       " 'general_contractor',\n",
       " 'pharmacy',\n",
       " 'car_wash',\n",
       " 'veterinary_care',\n",
       " 'painter',\n",
       " 'department_store',\n",
       " 'bakery',\n",
       " 'premise',\n",
       " 'school',\n",
       " 'establishment',\n",
       " 'point_of_interest',\n",
       " 'atm',\n",
       " 'real_estate_agency',\n",
       " 'pet_store',\n",
       " 'jewelry_store',\n",
       " 'lodging',\n",
       " 'moving_company',\n",
       " 'funeral_home',\n",
       " 'embassy',\n",
       " 'shoe_store',\n",
       " 'political',\n",
       " 'finance',\n",
       " 'food',\n",
       " 'subway_station',\n",
       " 'physiotherapist',\n",
       " 'shopping_mall',\n",
       " 'health',\n",
       " 'museum',\n",
       " 'bowling_alley',\n",
       " 'clothing_store',\n",
       " 'zoo']"
      ]
     },
     "execution_count": 31,
     "metadata": {},
     "output_type": "execute_result"
    }
   ],
   "source": [
    "all_types"
   ]
  }
 ],
 "metadata": {
  "kernelspec": {
   "display_name": "Python 3",
   "language": "python",
   "name": "python3"
  },
  "language_info": {
   "codemirror_mode": {
    "name": "ipython",
    "version": 3
   },
   "file_extension": ".py",
   "mimetype": "text/x-python",
   "name": "python",
   "nbconvert_exporter": "python",
   "pygments_lexer": "ipython3",
   "version": "3.4.5"
  }
 },
 "nbformat": 4,
 "nbformat_minor": 2
}
