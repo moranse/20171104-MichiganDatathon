{
 "cells": [
  {
   "cell_type": "code",
   "execution_count": 1,
   "metadata": {
    "collapsed": true
   },
   "outputs": [],
   "source": [
    "# Obviously\n",
    "import pandas as pd\n",
    "import numpy as np\n",
    "\n",
    "# Plotting set-up\n",
    "import matplotlib as mpl\n",
    "import matplotlib.pyplot as plt\n",
    "from matplotlib import rc\n",
    "# Command to reset plot styles to default: mpl.rcParams.update(mpl.rcParamsDefault)\n",
    "plt.style.use('seaborn-poster')\n",
    "mpl.rcParams['font.family'] = 'serif'\n",
    "% matplotlib inline\n",
    "\n",
    "# Other packages we might need\n",
    "#! pip install quandl\n",
    "import quandl\n",
    "\n",
    "# Options\n",
    "pd.set_option('display.height', 500)\n",
    "pd.set_option('display.max_rows', 500)\n",
    "data_folder = 'data/'"
   ]
  },
  {
   "cell_type": "code",
   "execution_count": 2,
   "metadata": {
    "collapsed": false
   },
   "outputs": [],
   "source": [
    "import tools\n",
    "data_folder = '../../data/'\n",
    "data = tools.read_all_csvs(data_folder)\n",
    "for f in data.keys():\n",
    "    cmd = \"{} = data['{}']\".format(f, f)\n",
    "    exec(cmd)"
   ]
  },
  {
   "cell_type": "code",
   "execution_count": 20,
   "metadata": {
    "collapsed": false
   },
   "outputs": [],
   "source": [
    "data_folder = '../../compdata/'\n",
    "calendar = pd.read_csv(data_folder + 'calendar.csv.gz')"
   ]
  },
  {
   "cell_type": "code",
   "execution_count": 25,
   "metadata": {
    "collapsed": false,
    "scrolled": true
   },
   "outputs": [
    {
     "data": {
      "text/plain": [
       "(18383955, 5)"
      ]
     },
     "execution_count": 25,
     "metadata": {},
     "output_type": "execute_result"
    }
   ],
   "source": [
    "calendar.shape"
   ]
  },
  {
   "cell_type": "code",
   "execution_count": 22,
   "metadata": {
    "collapsed": false
   },
   "outputs": [
    {
     "data": {
      "text/html": [
       "<div>\n",
       "<style scoped>\n",
       "    .dataframe tbody tr th:only-of-type {\n",
       "        vertical-align: middle;\n",
       "    }\n",
       "\n",
       "    .dataframe tbody tr th {\n",
       "        vertical-align: top;\n",
       "    }\n",
       "\n",
       "    .dataframe thead th {\n",
       "        text-align: right;\n",
       "    }\n",
       "</style>\n",
       "<table border=\"1\" class=\"dataframe\">\n",
       "  <thead>\n",
       "    <tr style=\"text-align: right;\">\n",
       "      <th></th>\n",
       "      <th>listing_id</th>\n",
       "      <th>date</th>\n",
       "      <th>available</th>\n",
       "      <th>price</th>\n",
       "      <th>metro_area</th>\n",
       "    </tr>\n",
       "  </thead>\n",
       "  <tbody>\n",
       "    <tr>\n",
       "      <th>0</th>\n",
       "      <td>665257</td>\n",
       "      <td>2016-04-22</td>\n",
       "      <td>f</td>\n",
       "      <td>NaN</td>\n",
       "      <td>asheville</td>\n",
       "    </tr>\n",
       "    <tr>\n",
       "      <th>1</th>\n",
       "      <td>665257</td>\n",
       "      <td>2016-04-23</td>\n",
       "      <td>f</td>\n",
       "      <td>NaN</td>\n",
       "      <td>asheville</td>\n",
       "    </tr>\n",
       "    <tr>\n",
       "      <th>2</th>\n",
       "      <td>665257</td>\n",
       "      <td>2016-04-24</td>\n",
       "      <td>f</td>\n",
       "      <td>NaN</td>\n",
       "      <td>asheville</td>\n",
       "    </tr>\n",
       "    <tr>\n",
       "      <th>3</th>\n",
       "      <td>665257</td>\n",
       "      <td>2016-04-25</td>\n",
       "      <td>f</td>\n",
       "      <td>NaN</td>\n",
       "      <td>asheville</td>\n",
       "    </tr>\n",
       "    <tr>\n",
       "      <th>4</th>\n",
       "      <td>665257</td>\n",
       "      <td>2016-04-26</td>\n",
       "      <td>f</td>\n",
       "      <td>NaN</td>\n",
       "      <td>asheville</td>\n",
       "    </tr>\n",
       "  </tbody>\n",
       "</table>\n",
       "</div>"
      ],
      "text/plain": [
       "   listing_id        date available price metro_area\n",
       "0      665257  2016-04-22         f   NaN  asheville\n",
       "1      665257  2016-04-23         f   NaN  asheville\n",
       "2      665257  2016-04-24         f   NaN  asheville\n",
       "3      665257  2016-04-25         f   NaN  asheville\n",
       "4      665257  2016-04-26         f   NaN  asheville"
      ]
     },
     "execution_count": 22,
     "metadata": {},
     "output_type": "execute_result"
    }
   ],
   "source": [
    "calendar.head()"
   ]
  },
  {
   "cell_type": "markdown",
   "metadata": {},
   "source": [
    "### Clean calendar"
   ]
  },
  {
   "cell_type": "code",
   "execution_count": 23,
   "metadata": {
    "collapsed": false
   },
   "outputs": [],
   "source": [
    "calendar['available'] = calendar['available'].map({'f': False, 't': True})\n",
    "calendar['price'] = calendar['price'].apply(lambda p: float(str(p).replace('$', '').replace(',', '')))"
   ]
  },
  {
   "cell_type": "markdown",
   "metadata": {},
   "source": [
    "### Pengji's Listings Cleaning"
   ]
  },
  {
   "cell_type": "code",
   "execution_count": 4,
   "metadata": {
    "collapsed": false
   },
   "outputs": [
    {
     "name": "stderr",
     "output_type": "stream",
     "text": [
      "/usr/lib64/python3.4/site-packages/ipykernel/__main__.py:16: FutureWarning: set_value is deprecated and will be removed in a future release. Please use .at[] or .iat[] accessors instead\n",
      "/usr/lib64/python3.4/site-packages/ipykernel/__main__.py:14: FutureWarning: set_value is deprecated and will be removed in a future release. Please use .at[] or .iat[] accessors instead\n",
      "/usr/lib64/python3.4/site-packages/ipykernel/__main__.py:35: FutureWarning: set_value is deprecated and will be removed in a future release. Please use .at[] or .iat[] accessors instead\n",
      "/usr/lib64/python3.4/site-packages/ipykernel/__main__.py:50: FutureWarning: set_value is deprecated and will be removed in a future release. Please use .at[] or .iat[] accessors instead\n",
      "/usr/lib64/python3.4/site-packages/ipykernel/__main__.py:64: FutureWarning: set_value is deprecated and will be removed in a future release. Please use .at[] or .iat[] accessors instead\n",
      "/usr/lib64/python3.4/site-packages/ipykernel/__main__.py:78: FutureWarning: set_value is deprecated and will be removed in a future release. Please use .at[] or .iat[] accessors instead\n",
      "/usr/lib64/python3.4/site-packages/ipykernel/__main__.py:99: SettingWithCopyWarning: \n",
      "A value is trying to be set on a copy of a slice from a DataFrame.\n",
      "Try using .loc[row_indexer,col_indexer] = value instead\n",
      "\n",
      "See the caveats in the documentation: http://pandas.pydata.org/pandas-docs/stable/indexing.html#indexing-view-versus-copy\n"
     ]
    }
   ],
   "source": [
    "from pandas.api.types import is_numeric_dtype, is_datetime64_dtype\n",
    "        \n",
    "price_columns = ['price', 'weekly_price']\n",
    "for col in price_columns:\n",
    "    if not is_numeric_dtype(listings[col]):\n",
    "        listings[col] = listings[col].str.replace('$', '')\n",
    "        listings[col] = listings[col].str.replace(',', '')\n",
    "        listings[col] = listings[col].astype(np.float64)\n",
    "\n",
    "boolean_columns = ['has_availability','instant_bookable']\n",
    "for col in boolean_columns:\n",
    "    for index,value in listings[col].iteritems():\n",
    "        if listings[col][index]=='t':\n",
    "            listings.set_value(index, col, 1.0)\n",
    "        else:\n",
    "            listings.set_value(index, col, 0.0)\n",
    "\n",
    "            \n",
    "amenity=listings['amenities'].apply(lambda x: x.replace('\"', '').replace('{', '').replace('}', '').split(','))\n",
    "amenity_dic={}\n",
    "for index,value in amenity.iteritems():\n",
    "    for item in value:\n",
    "        if item != '':\n",
    "            if item in amenity_dic.keys():\n",
    "                amenity_dic[item]=amenity_dic[item]+1\n",
    "            else:\n",
    "                amenity_dic[item]=1\n",
    "\n",
    "sLength=len(listings['id'])\n",
    "for key in amenity_dic:\n",
    "    listings[key] = pd.Series(np.zeros(sLength), index=listings.index)\n",
    "\n",
    "for index,value in amenity.iteritems():\n",
    "    for item in value:\n",
    "        listings.set_value(index, item, 1.0)\n",
    "    \n",
    "# digitize cancelation policy\n",
    "sLength=len(listings['id'])\n",
    "cancelation_policy={}\n",
    "for index,value in listings['cancellation_policy'].iteritems():\n",
    "    if value in cancelation_policy.keys():\n",
    "        cancelation_policy[value]=cancelation_policy[value]+1\n",
    "    else:\n",
    "        cancelation_policy[value]=1\n",
    "        \n",
    "listings['cancellation_policy_num'] = pd.Series(np.zeros(sLength), index=listings.index)\n",
    "cancelation_policy_convert={'no_refunds':0.0,'super_strict_60': 1.0,'super_strict_30': 2.0,'strict': 3.0, 'moderate': 4.0,'flexible': 5.0}\n",
    "\n",
    "for index,value in listings['cancellation_policy'].iteritems():\n",
    "    listings.set_value(index, 'cancellation_policy_num', cancelation_policy_convert[value])\n",
    "\n",
    "sLength=len(listings['id'])\n",
    "bed_type={}\n",
    "for index,value in listings['bed_type'].iteritems():\n",
    "    if value in bed_type.keys():\n",
    "        bed_type[value]=bed_type[value]+1\n",
    "    else:\n",
    "        bed_type[value]=1\n",
    "        \n",
    "listings['bed_type_num'] = pd.Series(np.zeros(sLength), index=listings.index)\n",
    "bed_type_convert={'Real Bed': 0, 'Futon': 1, 'Pull-out Sofa': 2, 'Couch': 3, 'Airbed': 4}\n",
    "\n",
    "for index,value in listings['bed_type'].iteritems():\n",
    "    listings.set_value(index, 'bed_type_num', bed_type_convert[value])\n",
    "\n",
    "sLength=len(listings['id'])\n",
    "room_type={}\n",
    "for index,value in listings['room_type'].iteritems():\n",
    "    if value in room_type.keys():\n",
    "        room_type[value]=room_type[value]+1\n",
    "    else:\n",
    "        room_type[value]=1\n",
    "        \n",
    "listings['room_type_num'] = pd.Series(np.zeros(sLength), index=listings.index)\n",
    "room_type_convert={'Shared room': 0, 'Private room': 1, 'Entire home/apt': 2}\n",
    "\n",
    "for index,value in listings['room_type'].iteritems():\n",
    "    listings.set_value(index, 'room_type_num', room_type_convert[value])\n",
    "\n",
    "def format_zipcode(z):\n",
    "    try:\n",
    "        fz = int(float(str(z).zfill(5)))\n",
    "        if len(str(fz)) != 5:\n",
    "            return False\n",
    "        else:\n",
    "            return True\n",
    "    except ValueError:\n",
    "        return False\n",
    "    \n",
    "listings = listings[listings['zipcode'].apply(lambda z: format_zipcode(z))]\n",
    "\n",
    "\n",
    "# Format metropolitan areas to names\n",
    "listings['metropolitan'] = listings['metropolitan'].map({\n",
    "        'asheville': 'Asheville',\n",
    "        'austin': 'Austin',\n",
    "        'nashville': 'Nashville',\n",
    "        'new_orleans': 'New Orleans',\n",
    "        'LA': 'Los Angeles'\n",
    "    })"
   ]
  },
  {
   "cell_type": "markdown",
   "metadata": {},
   "source": [
    "### Merge with listings\n",
    "We want to get the combined calendar data with listings."
   ]
  },
  {
   "cell_type": "code",
   "execution_count": 30,
   "metadata": {
    "collapsed": false
   },
   "outputs": [],
   "source": [
    "data_folder = '../../comp-data/'\n",
    "estate = pd.read_csv(data_folder + 'real_estate.csv.gz')"
   ]
  }
 ],
 "metadata": {
  "kernelspec": {
   "display_name": "Python 3",
   "language": "python",
   "name": "python3"
  },
  "language_info": {
   "codemirror_mode": {
    "name": "ipython",
    "version": 3
   },
   "file_extension": ".py",
   "mimetype": "text/x-python",
   "name": "python",
   "nbconvert_exporter": "python",
   "pygments_lexer": "ipython3",
   "version": "3.4.5"
  }
 },
 "nbformat": 4,
 "nbformat_minor": 0
}
