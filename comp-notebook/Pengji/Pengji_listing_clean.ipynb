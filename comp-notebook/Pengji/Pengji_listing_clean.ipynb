{
 "cells": [
  {
   "cell_type": "code",
   "execution_count": 1,
   "metadata": {
    "collapsed": false
   },
   "outputs": [],
   "source": [
    "%matplotlib notebook\n",
    "\n",
    "# Obviously\n",
    "import pandas as pd\n",
    "import numpy as np\n",
    "\n",
    "# Plotting set-up\n",
    "import matplotlib as mpl\n",
    "import matplotlib.pyplot as plt\n",
    "from matplotlib import rc\n",
    "# Command to reset plot styles to default: mpl.rcParams.update(mpl.rcParamsDefault)\n",
    "plt.style.use('seaborn-poster')\n",
    "mpl.rcParams['font.family'] = 'serif'\n",
    "% matplotlib inline\n",
    "\n",
    "# Other packages we might need\n",
    "#! pip install quandl\n",
    "# import quandl\n",
    "\n",
    "# Options\n",
    "pd.set_option('display.height', 500)\n",
    "pd.set_option('display.max_rows', 500)\n",
    "data_folder = '../data/'\n"
   ]
  },
  {
   "cell_type": "code",
   "execution_count": 2,
   "metadata": {
    "collapsed": false
   },
   "outputs": [],
   "source": [
    "pd.set_option('display.height', 500)\n",
    "pd.set_option('display.max_rows', 500)\n",
    "pd.set_option('display.max_columns', 500)\n",
    "listings_1 = pd.read_csv(data_folder + 'listings.csv')\n",
    "# reviews_1 = pd.read_csv(data_folder + 'reviews.csv')\n",
    "# calendar_1 = pd.read_csv(data_folder + 'calendar.csv')\n",
    "# neighborhoods_1 = pd.read_csv(data_folder + 'neighbourhoods.csv')\n",
    "\n",
    "listings = listings_1.copy()"
   ]
  },
  {
   "cell_type": "code",
   "execution_count": 3,
   "metadata": {
    "collapsed": false
   },
   "outputs": [
    {
     "name": "stderr",
     "output_type": "stream",
     "text": [
      "/usr/lib64/python3.4/site-packages/ipykernel/__main__.py:16: FutureWarning: set_value is deprecated and will be removed in a future release. Please use .at[] or .iat[] accessors instead\n",
      "/usr/lib64/python3.4/site-packages/ipykernel/__main__.py:14: FutureWarning: set_value is deprecated and will be removed in a future release. Please use .at[] or .iat[] accessors instead\n"
     ]
    }
   ],
   "source": [
    "from pandas.api.types import is_numeric_dtype, is_datetime64_dtype\n",
    "        \n",
    "price_columns = ['price', 'weekly_price']\n",
    "for col in price_columns:\n",
    "    if not is_numeric_dtype(listings[col]):\n",
    "        listings[col] = listings[col].str.replace('$', '')\n",
    "        listings[col] = listings[col].str.replace(',', '')\n",
    "        listings[col] = listings[col].astype(np.float64)\n",
    "\n",
    "boolean_columns = ['has_availability','instant_bookable']\n",
    "for col in boolean_columns:\n",
    "    for index,value in listings[col].iteritems():\n",
    "        if listings[col][index]=='t':\n",
    "            listings.set_value(index, col, 1.0)\n",
    "        else:\n",
    "            listings.set_value(index, col, 0.0)\n",
    "            "
   ]
  },
  {
   "cell_type": "code",
   "execution_count": 4,
   "metadata": {
    "collapsed": false
   },
   "outputs": [
    {
     "name": "stderr",
     "output_type": "stream",
     "text": [
      "/usr/lib64/python3.4/site-packages/ipykernel/__main__.py:20: FutureWarning: set_value is deprecated and will be removed in a future release. Please use .at[] or .iat[] accessors instead\n"
     ]
    }
   ],
   "source": [
    "# digitize amenities\n",
    "\n",
    "amenity=listings['amenities'].apply(lambda x: x.replace('\"', '').replace('{', '').replace('}', '').split(','))\n",
    "amenity_dic={}\n",
    "for index,value in amenity.iteritems():\n",
    "    for item in value:\n",
    "        if item != '':\n",
    "            if item in amenity_dic.keys():\n",
    "                amenity_dic[item]=amenity_dic[item]+1\n",
    "            else:\n",
    "                amenity_dic[item]=1\n",
    "\n",
    "\n",
    "sLength=len(listings['id'])\n",
    "for key in amenity_dic:\n",
    "    listings[key] = pd.Series(np.zeros(sLength), index=listings.index)\n",
    "\n",
    "for index,value in amenity.iteritems():\n",
    "    for item in value:\n",
    "        listings.set_value(index, item, 1.0)"
   ]
  },
  {
   "cell_type": "code",
   "execution_count": 5,
   "metadata": {
    "collapsed": false
   },
   "outputs": [
    {
     "name": "stdout",
     "output_type": "stream",
     "text": [
      "{'super_strict_30': 27, 'flexible': 15372, 'moderate': 12570, 'strict': 22277, 'super_strict_60': 72, 'no_refunds': 3}\n"
     ]
    },
    {
     "name": "stderr",
     "output_type": "stream",
     "text": [
      "/usr/lib64/python3.4/site-packages/ipykernel/__main__.py:18: FutureWarning: set_value is deprecated and will be removed in a future release. Please use .at[] or .iat[] accessors instead\n"
     ]
    }
   ],
   "source": [
    "# digitize cancelation policy\n",
    "sLength=len(listings['id'])\n",
    "cancelation_policy={}\n",
    "for index,value in listings['cancellation_policy'].iteritems():\n",
    "    if value in cancelation_policy.keys():\n",
    "        cancelation_policy[value]=cancelation_policy[value]+1\n",
    "    else:\n",
    "        cancelation_policy[value]=1\n",
    "        \n",
    "print(cancelation_policy)\n",
    "# {'super_strict_60': 2,'super_strict_30': 44,'strict': 2505, 'moderate': 1174,'flexible': 1145,}\n",
    "\n",
    "\n",
    "listings['cancellation_policy_num'] = pd.Series(np.zeros(sLength), index=listings.index)\n",
    "cancelation_policy_convert={'no_refunds':0.0,'super_strict_60': 1.0,'super_strict_30': 2.0,'strict': 3.0, 'moderate': 4.0,'flexible': 5.0}\n",
    "\n",
    "for index,value in listings['cancellation_policy'].iteritems():\n",
    "    listings.set_value(index, 'cancellation_policy_num', cancelation_policy_convert[value])\n",
    "\n"
   ]
  },
  {
   "cell_type": "code",
   "execution_count": 6,
   "metadata": {
    "collapsed": false
   },
   "outputs": [
    {
     "name": "stdout",
     "output_type": "stream",
     "text": [
      "{'Real Bed': 49062, 'Pull-out Sofa': 290, 'Airbed': 309, 'Futon': 471, 'Couch': 189}\n"
     ]
    },
    {
     "name": "stderr",
     "output_type": "stream",
     "text": [
      "/usr/lib64/python3.4/site-packages/ipykernel/__main__.py:22: FutureWarning: set_value is deprecated and will be removed in a future release. Please use .at[] or .iat[] accessors instead\n"
     ]
    }
   ],
   "source": [
    "# digitize bed type\n",
    "sLength=len(listings['id'])\n",
    "bed_type={}\n",
    "for index,value in listings['bed_type'].iteritems():\n",
    "    if value in bed_type.keys():\n",
    "        bed_type[value]=bed_type[value]+1\n",
    "    else:\n",
    "        bed_type[value]=1\n",
    "        \n",
    "print(bed_type)\n",
    "# {'super_strict_60': 2,'super_strict_30': 44,'strict': 2505, 'moderate': 1174,'flexible': 1145,}\n",
    "\n",
    "\n",
    "listings['bed_type_num'] = pd.Series(np.zeros(sLength), index=listings.index)\n",
    "bed_type_convert={'Real Bed': 0, 'Futon': 1, 'Pull-out Sofa': 2, 'Couch': 3, 'Airbed': 4}\n",
    "\n",
    "# data=listings['cancellation_policy']\n",
    "# for index,value in data.iteritems():\n",
    "#     print(value)\n",
    "for index,value in listings['bed_type'].iteritems():\n",
    "#     print(value)\n",
    "    listings.set_value(index, 'bed_type_num', bed_type_convert[value])\n",
    "\n",
    "\n"
   ]
  },
  {
   "cell_type": "code",
   "execution_count": 7,
   "metadata": {
    "collapsed": false
   },
   "outputs": [
    {
     "name": "stdout",
     "output_type": "stream",
     "text": [
      "{'Shared room': 1957, 'Entire home/apt': 31586, 'Private room': 16778}\n"
     ]
    },
    {
     "name": "stderr",
     "output_type": "stream",
     "text": [
      "/usr/lib64/python3.4/site-packages/ipykernel/__main__.py:19: FutureWarning: set_value is deprecated and will be removed in a future release. Please use .at[] or .iat[] accessors instead\n"
     ]
    }
   ],
   "source": [
    "# digitize room type\n",
    "sLength=len(listings['id'])\n",
    "room_type={}\n",
    "for index,value in listings['room_type'].iteritems():\n",
    "    if value in room_type.keys():\n",
    "        room_type[value]=room_type[value]+1\n",
    "    else:\n",
    "        room_type[value]=1\n",
    "        \n",
    "print(room_type)\n",
    "# {'super_strict_60': 2,'super_strict_30': 44,'strict': 2505, 'moderate': 1174,'flexible': 1145,}\n",
    "\n",
    "listings['room_type_num'] = pd.Series(np.zeros(sLength), index=listings.index)\n",
    "room_type_convert={'Shared room': 0, 'Private room': 1, 'Entire home/apt': 2}\n",
    "\n",
    "\n",
    "for index,value in listings['room_type'].iteritems():\n",
    "#     print(value)\n",
    "    listings.set_value(index, 'room_type_num', room_type_convert[value])\n",
    "\n"
   ]
  },
  {
   "cell_type": "code",
   "execution_count": 33,
   "metadata": {
    "collapsed": false
   },
   "outputs": [],
   "source": [
    "# Fix zipcodes\n",
    "def format_zipcode(z):\n",
    "    try:\n",
    "        fz = int(float(str(z).zfill(5)))\n",
    "        if len(str(fz)) != 5:\n",
    "            return False\n",
    "        else:\n",
    "            return True\n",
    "    except ValueError:\n",
    "        return False\n",
    "    \n",
    "listings = listings[listings['zipcode'].apply(lambda z: format_zipcode(z))]\n",
    "\n",
    "\n",
    "# Format metropolitan areas to names\n",
    "listings['metropolitan'] = listings['metropolitan'].map({\n",
    "        'asheville': 'Asheville',\n",
    "        'austin': 'Austin',\n",
    "        'nashville': 'Nashville',\n",
    "        'new_orleans': 'New Orleans',\n",
    "        'LA': 'Los Angeles'\n",
    "    })"
   ]
  }
 ],
 "metadata": {
  "anaconda-cloud": {},
  "kernelspec": {
   "display_name": "Python 3",
   "language": "python",
   "name": "python3"
  },
  "language_info": {
   "codemirror_mode": {
    "name": "ipython",
    "version": 3
   },
   "file_extension": ".py",
   "mimetype": "text/x-python",
   "name": "python",
   "nbconvert_exporter": "python",
   "pygments_lexer": "ipython3",
   "version": "3.4.5"
  }
 },
 "nbformat": 4,
 "nbformat_minor": 0
}
