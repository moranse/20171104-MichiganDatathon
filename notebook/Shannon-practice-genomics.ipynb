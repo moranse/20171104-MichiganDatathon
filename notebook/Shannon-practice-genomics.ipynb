{
 "cells": [
  {
   "cell_type": "code",
   "execution_count": 34,
   "metadata": {
    "collapsed": true
   },
   "outputs": [],
   "source": [
    "import pandas as pd\n",
    "import numpy as np"
   ]
  },
  {
   "cell_type": "code",
   "execution_count": 85,
   "metadata": {
    "collapsed": false
   },
   "outputs": [
    {
     "name": "stdout",
     "output_type": "stream",
     "text": [
      "height has been deprecated.\n",
      "\n"
     ]
    }
   ],
   "source": [
    "pd.set_option('display.height', 500)\n",
    "pd.set_option('display.max_rows', 500)\n",
    "data_folder = 'data/'"
   ]
  },
  {
   "cell_type": "markdown",
   "metadata": {},
   "source": [
    "# Things from Excel that I want to be able to do quickly\n",
    "* Sort\n",
    "* Merge tables based on an index: https://stackoverflow.com/questions/22676081/pandas-the-difference-between-join-and-merge\n",
    "* See unique values in a data set\n",
    "* Drop/add columns based on formulas\n",
    "* Rename columns / re-order tables\n",
    "* Manipulate text strings\n",
    "* Index match\n",
    "* Sumif (s)\n",
    "* Countif (s)\n",
    "* Map & replace with values from another source\n",
    "* Reformat datatype\n",
    "* Pivot tables: http://pbpython.com/pandas-pivot-table-explained.html"
   ]
  },
  {
   "cell_type": "markdown",
   "metadata": {},
   "source": [
    "# Helpful list of things to do\n",
    "* Preprocessing data, exploratory work, feature identification: https://github.com/ShuaiW/ml-cheatsheet\n",
    "* sklearn examples: https://www.datacamp.com/community/blog/scikit-learn-cheat-sheet"
   ]
  },
  {
   "cell_type": "markdown",
   "metadata": {},
   "source": [
    "# Loading data\n",
    "1. Load\n",
    "2. Visualize data, check types\n",
    "3. Merge data\n",
    "4. Drop irrelevant columns\n",
    "5. Split out relevant columns (dictionaries, etc)\n",
    "6. Add relevant summary columns"
   ]
  },
  {
   "cell_type": "code",
   "execution_count": 84,
   "metadata": {
    "collapsed": false
   },
   "outputs": [
    {
     "name": "stdout",
     "output_type": "stream",
     "text": [
      "calendar.csv        \u001b[31mget_data.sh\u001b[m\u001b[m*        listings.csv        neighbourhoods.csv  reviews.csv\r\n"
     ]
    }
   ],
   "source": [
    "ls data/"
   ]
  },
  {
   "cell_type": "code",
   "execution_count": 127,
   "metadata": {
    "collapsed": true
   },
   "outputs": [],
   "source": [
    "listings = pd.read_csv(data_folder + 'listings.csv')\n",
    "reviews = pd.read_csv(data_folder + 'reviews.csv')\n",
    "calendar = pd.read_csv(data_folder + 'calendar.csv')\n",
    "neighborhoods = pd.read_csv(data_folder + 'neighbourhoods.csv')"
   ]
  },
  {
   "cell_type": "code",
   "execution_count": null,
   "metadata": {
    "collapsed": false,
    "scrolled": true
   },
   "outputs": [],
   "source": [
    "# Check the dypes of the headers\n",
    "listings.dtypes"
   ]
  },
  {
   "cell_type": "code",
   "execution_count": 140,
   "metadata": {
    "collapsed": false
   },
   "outputs": [],
   "source": [
    "listings3 = listings.rename(columns={'license':'LICENSE','id':'ID'})"
   ]
  },
  {
   "cell_type": "code",
   "execution_count": 138,
   "metadata": {
    "collapsed": false
   },
   "outputs": [
    {
     "data": {
      "text/plain": [
       "array(['none'], dtype=object)"
      ]
     },
     "execution_count": 138,
     "metadata": {},
     "output_type": "execute_result"
    }
   ],
   "source": [
    "listings2 = listings.drop(['xl_picture_url', 'host_thumbnail_url'], axis=1)\n",
    "\n",
    "# Get unique values in a colummn\n",
    "listings2['experiences_offered'].unique()"
   ]
  },
  {
   "cell_type": "code",
   "execution_count": null,
   "metadata": {
    "collapsed": true
   },
   "outputs": [],
   "source": [
    "df = gen_age_tr.merge(ev, how='left', on='device_id')\n",
    "df = df.merge(ph_br_dev_model, how='left', on='device_id')"
   ]
  },
  {
   "cell_type": "markdown",
   "metadata": {},
   "source": [
    "# Apply, applymap, and map"
   ]
  },
  {
   "cell_type": "code",
   "execution_count": 143,
   "metadata": {
    "collapsed": false
   },
   "outputs": [
    {
     "data": {
      "text/html": [
       "<div>\n",
       "<style>\n",
       "    .dataframe thead tr:only-child th {\n",
       "        text-align: right;\n",
       "    }\n",
       "\n",
       "    .dataframe thead th {\n",
       "        text-align: left;\n",
       "    }\n",
       "\n",
       "    .dataframe tbody tr th {\n",
       "        vertical-align: top;\n",
       "    }\n",
       "</style>\n",
       "<table border=\"1\" class=\"dataframe\">\n",
       "  <thead>\n",
       "    <tr style=\"text-align: right;\">\n",
       "      <th></th>\n",
       "      <th>b</th>\n",
       "      <th>d</th>\n",
       "      <th>e</th>\n",
       "    </tr>\n",
       "  </thead>\n",
       "  <tbody>\n",
       "    <tr>\n",
       "      <th>Utah</th>\n",
       "      <td>-1.218925</td>\n",
       "      <td>-1.669478</td>\n",
       "      <td>-0.051027</td>\n",
       "    </tr>\n",
       "    <tr>\n",
       "      <th>Ohio</th>\n",
       "      <td>-0.128275</td>\n",
       "      <td>-0.101781</td>\n",
       "      <td>1.096763</td>\n",
       "    </tr>\n",
       "    <tr>\n",
       "      <th>Texas</th>\n",
       "      <td>-0.823568</td>\n",
       "      <td>-1.738171</td>\n",
       "      <td>0.160202</td>\n",
       "    </tr>\n",
       "    <tr>\n",
       "      <th>Oregon</th>\n",
       "      <td>-0.771373</td>\n",
       "      <td>1.342753</td>\n",
       "      <td>1.058894</td>\n",
       "    </tr>\n",
       "  </tbody>\n",
       "</table>\n",
       "</div>"
      ],
      "text/plain": [
       "               b         d         e\n",
       "Utah   -1.218925 -1.669478 -0.051027\n",
       "Ohio   -0.128275 -0.101781  1.096763\n",
       "Texas  -0.823568 -1.738171  0.160202\n",
       "Oregon -0.771373  1.342753  1.058894"
      ]
     },
     "execution_count": 143,
     "metadata": {},
     "output_type": "execute_result"
    }
   ],
   "source": [
    "frame = pd.DataFrame(np.random.randn(4, 3), columns=list('bde'), index=['Utah', 'Ohio', 'Texas', 'Oregon'])\n",
    "frame"
   ]
  },
  {
   "cell_type": "code",
   "execution_count": 144,
   "metadata": {
    "collapsed": false
   },
   "outputs": [
    {
     "data": {
      "text/plain": [
       "b    1.090650\n",
       "d    3.080924\n",
       "e    1.147790\n",
       "dtype: float64"
      ]
     },
     "execution_count": 144,
     "metadata": {},
     "output_type": "execute_result"
    }
   ],
   "source": [
    "f = lambda x: x.max() - x.min()\n",
    "frame.apply(f)"
   ]
  },
  {
   "cell_type": "code",
   "execution_count": 145,
   "metadata": {
    "collapsed": false
   },
   "outputs": [
    {
     "data": {
      "text/html": [
       "<div>\n",
       "<style>\n",
       "    .dataframe thead tr:only-child th {\n",
       "        text-align: right;\n",
       "    }\n",
       "\n",
       "    .dataframe thead th {\n",
       "        text-align: left;\n",
       "    }\n",
       "\n",
       "    .dataframe tbody tr th {\n",
       "        vertical-align: top;\n",
       "    }\n",
       "</style>\n",
       "<table border=\"1\" class=\"dataframe\">\n",
       "  <thead>\n",
       "    <tr style=\"text-align: right;\">\n",
       "      <th></th>\n",
       "      <th>b</th>\n",
       "      <th>d</th>\n",
       "      <th>e</th>\n",
       "    </tr>\n",
       "  </thead>\n",
       "  <tbody>\n",
       "    <tr>\n",
       "      <th>Utah</th>\n",
       "      <td>-1.22</td>\n",
       "      <td>-1.67</td>\n",
       "      <td>-0.05</td>\n",
       "    </tr>\n",
       "    <tr>\n",
       "      <th>Ohio</th>\n",
       "      <td>-0.13</td>\n",
       "      <td>-0.10</td>\n",
       "      <td>1.10</td>\n",
       "    </tr>\n",
       "    <tr>\n",
       "      <th>Texas</th>\n",
       "      <td>-0.82</td>\n",
       "      <td>-1.74</td>\n",
       "      <td>0.16</td>\n",
       "    </tr>\n",
       "    <tr>\n",
       "      <th>Oregon</th>\n",
       "      <td>-0.77</td>\n",
       "      <td>1.34</td>\n",
       "      <td>1.06</td>\n",
       "    </tr>\n",
       "  </tbody>\n",
       "</table>\n",
       "</div>"
      ],
      "text/plain": [
       "            b      d      e\n",
       "Utah    -1.22  -1.67  -0.05\n",
       "Ohio    -0.13  -0.10   1.10\n",
       "Texas   -0.82  -1.74   0.16\n",
       "Oregon  -0.77   1.34   1.06"
      ]
     },
     "execution_count": 145,
     "metadata": {},
     "output_type": "execute_result"
    }
   ],
   "source": [
    "format = lambda x: '%.2f' % x\n",
    "frame.applymap(format)"
   ]
  },
  {
   "cell_type": "code",
   "execution_count": 146,
   "metadata": {
    "collapsed": false
   },
   "outputs": [
    {
     "data": {
      "text/plain": [
       "Utah      -0.05\n",
       "Ohio       1.10\n",
       "Texas      0.16\n",
       "Oregon     1.06\n",
       "Name: e, dtype: object"
      ]
     },
     "execution_count": 146,
     "metadata": {},
     "output_type": "execute_result"
    }
   ],
   "source": [
    "frame['e'].map(format)"
   ]
  },
  {
   "cell_type": "markdown",
   "metadata": {},
   "source": [
    "# Replace value in a column with formula"
   ]
  },
  {
   "cell_type": "code",
   "execution_count": null,
   "metadata": {
    "collapsed": true
   },
   "outputs": [],
   "source": [
    "top_10_brands_en = {'华为':'Huawei', '小米':'Xiaomi', '三星':'Samsung', 'vivo':'vivo', 'OPPO':'OPPO', \n",
    "                    '魅族':'Meizu', '酷派':'Coolpad', '乐视':'LeEco', '联想':'Lenovo', 'HTC':'HTC'}\n",
    "\n",
    "df['phone_brand_en'] = df['phone_brand'].apply(lambda phone_brand: top_10_brands_en[phone_brand] if (phone_brand in top_10_brands_en) else 'Other')"
   ]
  },
  {
   "cell_type": "code",
   "execution_count": null,
   "metadata": {
    "collapsed": true
   },
   "outputs": [],
   "source": [
    "def get_age_segment(age):\n",
    "    if age <= 22:\n",
    "        return '22-'\n",
    "    elif age <= 26:\n",
    "        return '23-26'\n",
    "    elif age <= 28:\n",
    "        return '27-28'\n",
    "    elif age <= 32:\n",
    "        return '29-32'\n",
    "    elif age <= 38:\n",
    "        return '33-38'\n",
    "    else:\n",
    "        return '39+'\n",
    "\n",
    "df['age_segment'] = df['age'].apply(lambda age: get_age_segment(age))"
   ]
  },
  {
   "cell_type": "markdown",
   "metadata": {},
   "source": [
    "# Sumifs\n",
    "\n",
    "```\n",
    "DATE     | EMPLOYEE     | PROJECT | HOURS\n",
    "02/01/14 | Smith, John  | A001    | 4.0\n",
    "02/01/14 | Smith, John  | B002    | 4.0\n",
    "02/01/14 | Doe, Jane    | A001    | 3.0\n",
    "02/01/14 | Doe, Jane    | C003    | 5.0\n",
    "02/02/14 | Smith, John  | B002    | 2.0\n",
    "02/02/14 | Smith, John  | C003    | 6.0\n",
    "02/02/14 | Doe, Jane    | A001    | 8.0\n",
    "```"
   ]
  },
  {
   "cell_type": "code",
   "execution_count": null,
   "metadata": {
    "collapsed": true
   },
   "outputs": [],
   "source": [
    "# To get new table with sum by all projects\n",
    "df.groupby(\"PROJECT\")[\"HOURS\"].sum()\n",
    "\n",
    "# To get total for just one project\n",
    "df.query(\"PROJECT == 'A001'\")[\"HOURS\"].sum()\n",
    "\n",
    "# If you wanted to count, you could just use .count()"
   ]
  },
  {
   "cell_type": "code",
   "execution_count": 96,
   "metadata": {
    "collapsed": false
   },
   "outputs": [
    {
     "name": "stdout",
     "output_type": "stream",
     "text": [
      "Object `pandas` not found.\n"
     ]
    }
   ],
   "source": [
    "# query examples; these two are equivalent\n",
    "df.query('a > b')\n",
    "df[df.a > df.b]"
   ]
  },
  {
   "cell_type": "markdown",
   "metadata": {},
   "source": [
    "```\n",
    "df\n",
    "     A    B    C    D     E\n",
    "0  mitfx  0  200  300  0.25\n",
    "1     gs  1  150  320  0.35\n",
    "2    duk  1    5    2  0.45\n",
    "3    bmo  1  145   65  0.65 \n",
    "```"
   ]
  },
  {
   "cell_type": "code",
   "execution_count": null,
   "metadata": {
    "collapsed": true
   },
   "outputs": [],
   "source": [
    "df_subset = df[(df.B == 1) & (df.D > 5)]\n",
    "df_subset.apply(lambda x: x.C * x.E, axis=1).sum()\n",
    "# or\n",
    "print sum(df_subset.C * df_subset.E)"
   ]
  },
  {
   "cell_type": "code",
   "execution_count": 97,
   "metadata": {
    "collapsed": false
   },
   "outputs": [
    {
     "data": {
      "text/html": [
       "<div>\n",
       "<style>\n",
       "    .dataframe thead tr:only-child th {\n",
       "        text-align: right;\n",
       "    }\n",
       "\n",
       "    .dataframe thead th {\n",
       "        text-align: left;\n",
       "    }\n",
       "\n",
       "    .dataframe tbody tr th {\n",
       "        vertical-align: top;\n",
       "    }\n",
       "</style>\n",
       "<table border=\"1\" class=\"dataframe\">\n",
       "  <thead>\n",
       "    <tr style=\"text-align: right;\">\n",
       "      <th></th>\n",
       "      <th>age</th>\n",
       "      <th>favorite_color</th>\n",
       "      <th>grade</th>\n",
       "    </tr>\n",
       "    <tr>\n",
       "      <th>name</th>\n",
       "      <th></th>\n",
       "      <th></th>\n",
       "      <th></th>\n",
       "    </tr>\n",
       "  </thead>\n",
       "  <tbody>\n",
       "    <tr>\n",
       "      <th>Willard Morris</th>\n",
       "      <td>20</td>\n",
       "      <td>blue</td>\n",
       "      <td>88</td>\n",
       "    </tr>\n",
       "    <tr>\n",
       "      <th>Al Jennings</th>\n",
       "      <td>19</td>\n",
       "      <td>red</td>\n",
       "      <td>92</td>\n",
       "    </tr>\n",
       "    <tr>\n",
       "      <th>Omar Mullins</th>\n",
       "      <td>22</td>\n",
       "      <td>yellow</td>\n",
       "      <td>95</td>\n",
       "    </tr>\n",
       "    <tr>\n",
       "      <th>Spencer McDaniel</th>\n",
       "      <td>21</td>\n",
       "      <td>green</td>\n",
       "      <td>70</td>\n",
       "    </tr>\n",
       "  </tbody>\n",
       "</table>\n",
       "</div>"
      ],
      "text/plain": [
       "                  age favorite_color  grade\n",
       "name                                       \n",
       "Willard Morris     20           blue     88\n",
       "Al Jennings        19            red     92\n",
       "Omar Mullins       22         yellow     95\n",
       "Spencer McDaniel   21          green     70"
      ]
     },
     "execution_count": 97,
     "metadata": {},
     "output_type": "execute_result"
    }
   ],
   "source": [
    "raw_data = {'name': ['Willard Morris', 'Al Jennings', 'Omar Mullins', 'Spencer McDaniel'],\n",
    "        'age': [20, 19, 22, 21],\n",
    "        'favorite_color': ['blue', 'red', 'yellow', \"green\"],\n",
    "        'grade': [88, 92, 95, 70]}\n",
    "\n",
    "# df = pd.DataFrame(raw_data, index = ['Willard Morris', 'Al Jennings', 'Omar Mullins', 'Spencer McDaniel'])\n",
    "df = pd.DataFrame(raw_data)\n",
    "df = df.set_index('name')\n",
    "df"
   ]
  },
  {
   "cell_type": "code",
   "execution_count": 98,
   "metadata": {
    "collapsed": false
   },
   "outputs": [
    {
     "data": {
      "text/html": [
       "<div>\n",
       "<style>\n",
       "    .dataframe thead tr:only-child th {\n",
       "        text-align: right;\n",
       "    }\n",
       "\n",
       "    .dataframe thead th {\n",
       "        text-align: left;\n",
       "    }\n",
       "\n",
       "    .dataframe tbody tr th {\n",
       "        vertical-align: top;\n",
       "    }\n",
       "</style>\n",
       "<table border=\"1\" class=\"dataframe\">\n",
       "  <thead>\n",
       "    <tr style=\"text-align: right;\">\n",
       "      <th></th>\n",
       "      <th>A</th>\n",
       "      <th>B</th>\n",
       "      <th>C</th>\n",
       "      <th>D</th>\n",
       "    </tr>\n",
       "  </thead>\n",
       "  <tbody>\n",
       "    <tr>\n",
       "      <th>0</th>\n",
       "      <td>foo</td>\n",
       "      <td>one</td>\n",
       "      <td>small</td>\n",
       "      <td>1</td>\n",
       "    </tr>\n",
       "    <tr>\n",
       "      <th>1</th>\n",
       "      <td>foo</td>\n",
       "      <td>one</td>\n",
       "      <td>large</td>\n",
       "      <td>2</td>\n",
       "    </tr>\n",
       "    <tr>\n",
       "      <th>2</th>\n",
       "      <td>foo</td>\n",
       "      <td>one</td>\n",
       "      <td>large</td>\n",
       "      <td>2</td>\n",
       "    </tr>\n",
       "    <tr>\n",
       "      <th>3</th>\n",
       "      <td>foo</td>\n",
       "      <td>two</td>\n",
       "      <td>small</td>\n",
       "      <td>3</td>\n",
       "    </tr>\n",
       "    <tr>\n",
       "      <th>4</th>\n",
       "      <td>foo</td>\n",
       "      <td>two</td>\n",
       "      <td>small</td>\n",
       "      <td>3</td>\n",
       "    </tr>\n",
       "    <tr>\n",
       "      <th>5</th>\n",
       "      <td>bar</td>\n",
       "      <td>one</td>\n",
       "      <td>large</td>\n",
       "      <td>4</td>\n",
       "    </tr>\n",
       "    <tr>\n",
       "      <th>6</th>\n",
       "      <td>bar</td>\n",
       "      <td>one</td>\n",
       "      <td>small</td>\n",
       "      <td>5</td>\n",
       "    </tr>\n",
       "    <tr>\n",
       "      <th>7</th>\n",
       "      <td>bar</td>\n",
       "      <td>two</td>\n",
       "      <td>small</td>\n",
       "      <td>6</td>\n",
       "    </tr>\n",
       "    <tr>\n",
       "      <th>8</th>\n",
       "      <td>bar</td>\n",
       "      <td>two</td>\n",
       "      <td>large</td>\n",
       "      <td>7</td>\n",
       "    </tr>\n",
       "  </tbody>\n",
       "</table>\n",
       "</div>"
      ],
      "text/plain": [
       "     A    B      C  D\n",
       "0  foo  one  small  1\n",
       "1  foo  one  large  2\n",
       "2  foo  one  large  2\n",
       "3  foo  two  small  3\n",
       "4  foo  two  small  3\n",
       "5  bar  one  large  4\n",
       "6  bar  one  small  5\n",
       "7  bar  two  small  6\n",
       "8  bar  two  large  7"
      ]
     },
     "execution_count": 98,
     "metadata": {},
     "output_type": "execute_result"
    }
   ],
   "source": [
    "# Pivot tables\n",
    "\n",
    "df = pd.DataFrame({\"A\": [\"foo\", \"foo\", \"foo\", \"foo\", \"foo\",\n",
    "                         \"bar\", \"bar\", \"bar\", \"bar\"],\n",
    "                   \"B\": [\"one\", \"one\", \"one\", \"two\", \"two\",\n",
    "                         \"one\", \"one\", \"two\", \"two\"],\n",
    "                   \"C\": [\"small\", \"large\", \"large\", \"small\",\n",
    "                         \"small\", \"large\", \"small\", \"small\",\n",
    "                         \"large\"],\n",
    "                   \"D\": [1, 2, 2, 3, 3, 4, 5, 6, 7]})\n",
    "df"
   ]
  },
  {
   "cell_type": "code",
   "execution_count": 118,
   "metadata": {
    "collapsed": false
   },
   "outputs": [
    {
     "data": {
      "text/plain": [
       "A\n",
       "bar    4\n",
       "foo    5\n",
       "Name: C, dtype: int64"
      ]
     },
     "execution_count": 118,
     "metadata": {},
     "output_type": "execute_result"
    }
   ],
   "source": [
    "df.groupby(['A'])['C'].count()"
   ]
  },
  {
   "cell_type": "code",
   "execution_count": 73,
   "metadata": {
    "collapsed": false
   },
   "outputs": [
    {
     "ename": "TypeError",
     "evalue": "pivot_simple() got multiple values for argument 'index'",
     "output_type": "error",
     "traceback": [
      "\u001b[0;31m---------------------------------------------------------------------------\u001b[0m",
      "\u001b[0;31mTypeError\u001b[0m                                 Traceback (most recent call last)",
      "\u001b[0;32m<ipython-input-73-6049c27f2349>\u001b[0m in \u001b[0;36m<module>\u001b[0;34m()\u001b[0m\n\u001b[1;32m      1\u001b[0m \u001b[0;31m# pd.pivot_table(df, index=['B','A'],aggfunc=np.sum)\u001b[0m\u001b[0;34m\u001b[0m\u001b[0;34m\u001b[0m\u001b[0m\n\u001b[0;32m----> 2\u001b[0;31m \u001b[0mpd\u001b[0m\u001b[0;34m.\u001b[0m\u001b[0mpivot\u001b[0m\u001b[0;34m(\u001b[0m\u001b[0mdf\u001b[0m\u001b[0;34m,\u001b[0m \u001b[0mcolumns\u001b[0m\u001b[0;34m=\u001b[0m\u001b[0;34m[\u001b[0m\u001b[0;34m'C'\u001b[0m\u001b[0;34m]\u001b[0m\u001b[0;34m,\u001b[0m \u001b[0mindex\u001b[0m\u001b[0;34m=\u001b[0m\u001b[0;34m[\u001b[0m\u001b[0;34m'B'\u001b[0m\u001b[0;34m,\u001b[0m\u001b[0;34m'A'\u001b[0m\u001b[0;34m]\u001b[0m\u001b[0;34m)\u001b[0m\u001b[0;34m\u001b[0m\u001b[0m\n\u001b[0m",
      "\u001b[0;31mTypeError\u001b[0m: pivot_simple() got multiple values for argument 'index'"
     ]
    }
   ],
   "source": [
    "# pd.pivot_table(df, index=['B','A'],aggfunc=np.sum)\n",
    "pd.pivot(df, columns=['C'], index=['B','A'])"
   ]
  },
  {
   "cell_type": "markdown",
   "metadata": {},
   "source": [
    "Order of operations for working with new data-set:\n",
    "1. Import data\n",
    "2. Quick check data"
   ]
  },
  {
   "cell_type": "code",
   "execution_count": 36,
   "metadata": {
    "collapsed": false
   },
   "outputs": [
    {
     "name": "stdout",
     "output_type": "stream",
     "text": [
      "\u001b[31mgenes.csv\u001b[m\u001b[m*                    \u001b[31mgtex_gene_expression.csv\u001b[m\u001b[m*     source.txt                    \u001b[31mtoxicogenomics_chemicals.csv\u001b[m\u001b[m*\r\n"
     ]
    }
   ],
   "source": [
    "ls data-genomics/"
   ]
  },
  {
   "cell_type": "markdown",
   "metadata": {},
   "source": [
    "Another convenient operation is map on a series, which performs the operation specified on every element of a column. It's as if you wrote a for-loop to access every item of the GENDER column, and use that item to access the gender dictionary, and replace the value."
   ]
  },
  {
   "cell_type": "code",
   "execution_count": 39,
   "metadata": {
    "collapsed": false
   },
   "outputs": [
    {
     "data": {
      "text/plain": [
       "'fillmein'"
      ]
     },
     "execution_count": 39,
     "metadata": {},
     "output_type": "execute_result"
    }
   ],
   "source": [
    "gender = {1: 'fillmein',\n",
    "          2: 'fillmein2'}\n",
    "subject_phenotypes.GENDER.map(gender)"
   ]
  },
  {
   "cell_type": "code",
   "execution_count": null,
   "metadata": {
    "collapsed": true
   },
   "outputs": [],
   "source": [
    "# Code to create a new column called \"gender\" in `subject_phenotypes` that is the result of using `map` \n",
    "# with the `gender` dictionary on the \"GENDER\" column of `subject_phenotypes`."
   ]
  },
  {
   "cell_type": "code",
   "execution_count": 42,
   "metadata": {
    "collapsed": false
   },
   "outputs": [
    {
     "data": {
      "text/plain": [
       "['you', 'have', 'as', 'many', 'hours', 'in', 'a', 'day', 'as', 'beyonce']"
      ]
     },
     "execution_count": 42,
     "metadata": {},
     "output_type": "execute_result"
    }
   ],
   "source": [
    "s = 'you have as many hours in a day as beyonce'\n",
    "s.split()\n",
    "# s.split('d')"
   ]
  },
  {
   "cell_type": "markdown",
   "metadata": {},
   "source": [
    "We can use what we just learned about manipulating strings, on columns of dataframe using `lambda`, which allows us to create small functions. For example, if we wanted to take column `'SUBJID'` from the dataframe `subject_phenotypes`, split every item on the dash character `'-'`, and get the first item, we would do this:"
   ]
  },
  {
   "cell_type": "code",
   "execution_count": null,
   "metadata": {
    "collapsed": true
   },
   "outputs": [],
   "source": [
    "subject_phenotypes['SUBJID'].map(lambda x: x.split('-')[0])"
   ]
  },
  {
   "cell_type": "markdown",
   "metadata": {},
   "source": [
    "The above code produces the error,\n",
    "\n",
    "    <ipython-input-157-6714d86271d7> in <lambda>(x)\n",
    "    ----> 1 sample_attributes['Tissue Type, more specific detail of tissue type'].map(lambda x: x.split('-')[0])\n",
    "\n",
    "    AttributeError: 'float' object has no attribute 'split'\n",
    "    \n",
    "Which happens because instead of a nice string, there is a `float` there, and `float`s don't know how to be `split`. Why is that? Well, NAs are of type `float`, so this indicates that there's an NA there.\n",
    "\n",
    "To deal with this, we can add an `if` statement to our `lambda` to make it deal with these situations. We will use the function `isinstance` to check if `x` is a string (the special word for a string in Python is `str`), and replace it with an NA using the `numpy` library (which we imported as `np` for shorthand) `np.nan`."
   ]
  },
  {
   "cell_type": "code",
   "execution_count": 43,
   "metadata": {
    "collapsed": false
   },
   "outputs": [
    {
     "ename": "NameError",
     "evalue": "name 'sample_attributes' is not defined",
     "output_type": "error",
     "traceback": [
      "\u001b[0;31m---------------------------------------------------------------------------\u001b[0m",
      "\u001b[0;31mNameError\u001b[0m                                 Traceback (most recent call last)",
      "\u001b[0;32m<ipython-input-43-09cec6be2274>\u001b[0m in \u001b[0;36m<module>\u001b[0;34m()\u001b[0m\n\u001b[0;32m----> 1\u001b[0;31m \u001b[0msample_attributes\u001b[0m\u001b[0;34m[\u001b[0m\u001b[0;34m'Tissue Type, more specific detail of tissue type'\u001b[0m\u001b[0;34m]\u001b[0m\u001b[0;34m.\u001b[0m\u001b[0mmap\u001b[0m\u001b[0;34m(\u001b[0m\u001b[0;32mlambda\u001b[0m \u001b[0mx\u001b[0m\u001b[0;34m:\u001b[0m \u001b[0mx\u001b[0m\u001b[0;34m.\u001b[0m\u001b[0msplit\u001b[0m\u001b[0;34m(\u001b[0m\u001b[0;34m'-'\u001b[0m\u001b[0;34m)\u001b[0m\u001b[0;34m[\u001b[0m\u001b[0;36m0\u001b[0m\u001b[0;34m]\u001b[0m \u001b[0;32mif\u001b[0m \u001b[0misinstance\u001b[0m\u001b[0;34m(\u001b[0m\u001b[0mx\u001b[0m\u001b[0;34m,\u001b[0m \u001b[0mstr\u001b[0m\u001b[0;34m)\u001b[0m \u001b[0;32melse\u001b[0m \u001b[0mnp\u001b[0m\u001b[0;34m.\u001b[0m\u001b[0mnan\u001b[0m\u001b[0;34m)\u001b[0m\u001b[0;34m\u001b[0m\u001b[0m\n\u001b[0m",
      "\u001b[0;31mNameError\u001b[0m: name 'sample_attributes' is not defined"
     ]
    }
   ],
   "source": [
    "sample_attributes['Tissue Type, more specific detail of tissue type'].map(lambda x: x.split('-')[0] if isinstance(x, str) else np.nan)"
   ]
  },
  {
   "cell_type": "markdown",
   "metadata": {},
   "source": [
    "Need to look up join"
   ]
  },
  {
   "cell_type": "markdown",
   "metadata": {},
   "source": [
    "Merge:\n",
    "\n",
    "We want to merge these two dataframes on their common column, which is \"vegetable\" in dataframe1 and crop in dataframe2. We can do this using merge, and specifying what we want to merge the left and right dataframes on."
   ]
  },
  {
   "cell_type": "code",
   "execution_count": 47,
   "metadata": {
    "collapsed": true
   },
   "outputs": [],
   "source": [
    "dataframe1 = pd.DataFrame([['cucumber', 'watery'], ['broccoli', 'crunchy'], ['kale', 'chewy'], \n",
    "                           ['mango', 'sweet'] ], columns=['vegetable', 'description'])\n",
    "\n",
    "dataframe2 = pd.DataFrame([['broccoli', 'harvested', 8], ['broccoli', 'planted', 5],\n",
    "                           ['kale', 'planted', 6], ['kale', 'harvested', 9],\n",
    "                           ['cucumber', 'harvested', 7], ['cucumber', 'planted', 4],\n",
    "                           ['strawberry', 'planted', 10], ['strawberry', 'harvested', 2]], \n",
    "                          columns=['crop', 'action', 'number'])"
   ]
  },
  {
   "cell_type": "code",
   "execution_count": 48,
   "metadata": {
    "collapsed": false
   },
   "outputs": [
    {
     "data": {
      "text/html": [
       "<div>\n",
       "<style>\n",
       "    .dataframe thead tr:only-child th {\n",
       "        text-align: right;\n",
       "    }\n",
       "\n",
       "    .dataframe thead th {\n",
       "        text-align: left;\n",
       "    }\n",
       "\n",
       "    .dataframe tbody tr th {\n",
       "        vertical-align: top;\n",
       "    }\n",
       "</style>\n",
       "<table border=\"1\" class=\"dataframe\">\n",
       "  <thead>\n",
       "    <tr style=\"text-align: right;\">\n",
       "      <th></th>\n",
       "      <th>vegetable</th>\n",
       "      <th>description</th>\n",
       "    </tr>\n",
       "  </thead>\n",
       "  <tbody>\n",
       "    <tr>\n",
       "      <th>0</th>\n",
       "      <td>cucumber</td>\n",
       "      <td>watery</td>\n",
       "    </tr>\n",
       "    <tr>\n",
       "      <th>1</th>\n",
       "      <td>broccoli</td>\n",
       "      <td>crunchy</td>\n",
       "    </tr>\n",
       "    <tr>\n",
       "      <th>2</th>\n",
       "      <td>kale</td>\n",
       "      <td>chewy</td>\n",
       "    </tr>\n",
       "    <tr>\n",
       "      <th>3</th>\n",
       "      <td>mango</td>\n",
       "      <td>sweet</td>\n",
       "    </tr>\n",
       "  </tbody>\n",
       "</table>\n",
       "</div>"
      ],
      "text/plain": [
       "  vegetable description\n",
       "0  cucumber      watery\n",
       "1  broccoli     crunchy\n",
       "2      kale       chewy\n",
       "3     mango       sweet"
      ]
     },
     "execution_count": 48,
     "metadata": {},
     "output_type": "execute_result"
    }
   ],
   "source": [
    "dataframe1"
   ]
  },
  {
   "cell_type": "code",
   "execution_count": 49,
   "metadata": {
    "collapsed": false
   },
   "outputs": [
    {
     "data": {
      "text/html": [
       "<div>\n",
       "<style>\n",
       "    .dataframe thead tr:only-child th {\n",
       "        text-align: right;\n",
       "    }\n",
       "\n",
       "    .dataframe thead th {\n",
       "        text-align: left;\n",
       "    }\n",
       "\n",
       "    .dataframe tbody tr th {\n",
       "        vertical-align: top;\n",
       "    }\n",
       "</style>\n",
       "<table border=\"1\" class=\"dataframe\">\n",
       "  <thead>\n",
       "    <tr style=\"text-align: right;\">\n",
       "      <th></th>\n",
       "      <th>crop</th>\n",
       "      <th>action</th>\n",
       "      <th>number</th>\n",
       "    </tr>\n",
       "  </thead>\n",
       "  <tbody>\n",
       "    <tr>\n",
       "      <th>0</th>\n",
       "      <td>broccoli</td>\n",
       "      <td>harvested</td>\n",
       "      <td>8</td>\n",
       "    </tr>\n",
       "    <tr>\n",
       "      <th>1</th>\n",
       "      <td>broccoli</td>\n",
       "      <td>planted</td>\n",
       "      <td>5</td>\n",
       "    </tr>\n",
       "    <tr>\n",
       "      <th>2</th>\n",
       "      <td>kale</td>\n",
       "      <td>planted</td>\n",
       "      <td>6</td>\n",
       "    </tr>\n",
       "    <tr>\n",
       "      <th>3</th>\n",
       "      <td>kale</td>\n",
       "      <td>harvested</td>\n",
       "      <td>9</td>\n",
       "    </tr>\n",
       "    <tr>\n",
       "      <th>4</th>\n",
       "      <td>cucumber</td>\n",
       "      <td>harvested</td>\n",
       "      <td>7</td>\n",
       "    </tr>\n",
       "    <tr>\n",
       "      <th>5</th>\n",
       "      <td>cucumber</td>\n",
       "      <td>planted</td>\n",
       "      <td>4</td>\n",
       "    </tr>\n",
       "    <tr>\n",
       "      <th>6</th>\n",
       "      <td>strawberry</td>\n",
       "      <td>planted</td>\n",
       "      <td>10</td>\n",
       "    </tr>\n",
       "    <tr>\n",
       "      <th>7</th>\n",
       "      <td>strawberry</td>\n",
       "      <td>harvested</td>\n",
       "      <td>2</td>\n",
       "    </tr>\n",
       "  </tbody>\n",
       "</table>\n",
       "</div>"
      ],
      "text/plain": [
       "         crop     action  number\n",
       "0    broccoli  harvested       8\n",
       "1    broccoli    planted       5\n",
       "2        kale    planted       6\n",
       "3        kale  harvested       9\n",
       "4    cucumber  harvested       7\n",
       "5    cucumber    planted       4\n",
       "6  strawberry    planted      10\n",
       "7  strawberry  harvested       2"
      ]
     },
     "execution_count": 49,
     "metadata": {},
     "output_type": "execute_result"
    }
   ],
   "source": [
    "dataframe2"
   ]
  },
  {
   "cell_type": "markdown",
   "metadata": {},
   "source": [
    "We want to `merge` these two dataframes on their common column, which is `\"vegetable\"` in `dataframe1` and `crop` in `dataframe2`. We can do this using `merge`, and specifying what we want to merge the **left** and **right**  dataframes **on**."
   ]
  },
  {
   "cell_type": "code",
   "execution_count": 54,
   "metadata": {
    "collapsed": false
   },
   "outputs": [
    {
     "data": {
      "text/html": [
       "<div>\n",
       "<style>\n",
       "    .dataframe thead tr:only-child th {\n",
       "        text-align: right;\n",
       "    }\n",
       "\n",
       "    .dataframe thead th {\n",
       "        text-align: left;\n",
       "    }\n",
       "\n",
       "    .dataframe tbody tr th {\n",
       "        vertical-align: top;\n",
       "    }\n",
       "</style>\n",
       "<table border=\"1\" class=\"dataframe\">\n",
       "  <thead>\n",
       "    <tr style=\"text-align: right;\">\n",
       "      <th></th>\n",
       "      <th>vegetable</th>\n",
       "      <th>description</th>\n",
       "      <th>action</th>\n",
       "      <th>number</th>\n",
       "    </tr>\n",
       "  </thead>\n",
       "  <tbody>\n",
       "    <tr>\n",
       "      <th>0</th>\n",
       "      <td>cucumber</td>\n",
       "      <td>watery</td>\n",
       "      <td>harvested</td>\n",
       "      <td>7</td>\n",
       "    </tr>\n",
       "    <tr>\n",
       "      <th>1</th>\n",
       "      <td>cucumber</td>\n",
       "      <td>watery</td>\n",
       "      <td>planted</td>\n",
       "      <td>4</td>\n",
       "    </tr>\n",
       "    <tr>\n",
       "      <th>2</th>\n",
       "      <td>broccoli</td>\n",
       "      <td>crunchy</td>\n",
       "      <td>harvested</td>\n",
       "      <td>8</td>\n",
       "    </tr>\n",
       "    <tr>\n",
       "      <th>3</th>\n",
       "      <td>broccoli</td>\n",
       "      <td>crunchy</td>\n",
       "      <td>planted</td>\n",
       "      <td>5</td>\n",
       "    </tr>\n",
       "    <tr>\n",
       "      <th>4</th>\n",
       "      <td>kale</td>\n",
       "      <td>chewy</td>\n",
       "      <td>planted</td>\n",
       "      <td>6</td>\n",
       "    </tr>\n",
       "    <tr>\n",
       "      <th>5</th>\n",
       "      <td>kale</td>\n",
       "      <td>chewy</td>\n",
       "      <td>harvested</td>\n",
       "      <td>9</td>\n",
       "    </tr>\n",
       "  </tbody>\n",
       "</table>\n",
       "</div>"
      ],
      "text/plain": [
       "  vegetable description     action  number\n",
       "0  cucumber      watery  harvested       7\n",
       "1  cucumber      watery    planted       4\n",
       "2  broccoli     crunchy  harvested       8\n",
       "3  broccoli     crunchy    planted       5\n",
       "4      kale       chewy    planted       6\n",
       "5      kale       chewy  harvested       9"
      ]
     },
     "execution_count": 54,
     "metadata": {},
     "output_type": "execute_result"
    }
   ],
   "source": [
    "dataframe1.merge(dataframe2, left_on='vegetable', right_on='crop').drop(['crop'],axis=1)"
   ]
  },
  {
   "cell_type": "code",
   "execution_count": 10,
   "metadata": {
    "collapsed": false
   },
   "outputs": [
    {
     "name": "stdout",
     "output_type": "stream",
     "text": [
      "height has been deprecated.\n",
      "\n"
     ]
    }
   ],
   "source": [
    "pd.set_option('display.height', 500)\n",
    "pd.set_option('display.max_rows', 500)\n",
    "data_folder = 'data-genomics/'\n",
    "\n",
    "genes = pd.read_csv(data_folder + 'genes.csv')\n",
    "organs = pd.read_csv(data_folder + 'Organ_gene_relation.csv')\n",
    "disease = pd.read_csv(data_folder + 'selected_gene_disease.csv')\n",
    "express = pd.read_csv(data_folder + 'gtex_gene_expression.csv')\n",
    "tox = pd.read_csv(data_folder + 'toxicogenomics_chemicals.csv')"
   ]
  },
  {
   "cell_type": "markdown",
   "metadata": {},
   "source": [
    "What need to happen:\n",
    "1. Checklist for cleaning data\n",
    "2. How to quickly screen for interesting things\n",
    "3. Plan for working through data"
   ]
  },
  {
   "cell_type": "code",
   "execution_count": 27,
   "metadata": {
    "collapsed": false,
    "scrolled": true
   },
   "outputs": [
    {
     "data": {
      "text/plain": [
       "Index(['ensembl_id', 'entrez_id', 'hgnc_symbol', 'hgnc_name',\n",
       "       'cytogenetic_location', 'uni_protein_id', 'gene_biotype'],\n",
       "      dtype='object')"
      ]
     },
     "execution_count": 27,
     "metadata": {},
     "output_type": "execute_result"
    }
   ],
   "source": [
    "genes.head(10)"
   ]
  },
  {
   "cell_type": "code",
   "execution_count": 26,
   "metadata": {
    "collapsed": false,
    "scrolled": true
   },
   "outputs": [
    {
     "data": {
      "text/plain": [
       "['3prime_overlapping_ncrna',\n",
       " 'IG_C_gene',\n",
       " 'IG_C_pseudogene',\n",
       " 'IG_D_gene',\n",
       " 'IG_J_gene',\n",
       " 'IG_J_pseudogene',\n",
       " 'IG_V_gene',\n",
       " 'IG_V_pseudogene',\n",
       " 'Mt_rRNA',\n",
       " 'Mt_tRNA',\n",
       " 'TEC',\n",
       " 'TR_C_gene',\n",
       " 'TR_D_gene',\n",
       " 'TR_J_gene',\n",
       " 'TR_J_pseudogene',\n",
       " 'TR_V_gene',\n",
       " 'TR_V_pseudogene',\n",
       " 'antisense',\n",
       " 'bidirectional_promoter_lncrna',\n",
       " 'lincRNA',\n",
       " 'miRNA',\n",
       " 'misc_RNA',\n",
       " 'polymorphic_pseudogene',\n",
       " 'processed_pseudogene',\n",
       " 'processed_transcript',\n",
       " 'protein_coding',\n",
       " 'rRNA',\n",
       " 'ribozyme',\n",
       " 'scaRNA',\n",
       " 'sense_intronic',\n",
       " 'sense_overlapping',\n",
       " 'snRNA',\n",
       " 'snoRNA',\n",
       " 'transcribed_processed_pseudogene',\n",
       " 'transcribed_unitary_pseudogene',\n",
       " 'transcribed_unprocessed_pseudogene',\n",
       " 'translated_unprocessed_pseudogene',\n",
       " 'unitary_pseudogene',\n",
       " 'unprocessed_pseudogene',\n",
       " 'vaultRNA']"
      ]
     },
     "execution_count": 26,
     "metadata": {},
     "output_type": "execute_result"
    }
   ],
   "source": [
    "express.head(10)\n",
    "list(np.sort(express['gene_type'].unique()))"
   ]
  },
  {
   "cell_type": "code",
   "execution_count": 14,
   "metadata": {
    "collapsed": false
   },
   "outputs": [
    {
     "data": {
      "text/plain": [
       "(55374, 6)"
      ]
     },
     "execution_count": 14,
     "metadata": {},
     "output_type": "execute_result"
    }
   ],
   "source": [
    "# genes.shape\n",
    "# express.shape\n",
    "tox.shape"
   ]
  },
  {
   "cell_type": "code",
   "execution_count": 32,
   "metadata": {
    "collapsed": false
   },
   "outputs": [
    {
     "data": {
      "text/html": [
       "<div>\n",
       "<style>\n",
       "    .dataframe thead tr:only-child th {\n",
       "        text-align: right;\n",
       "    }\n",
       "\n",
       "    .dataframe thead th {\n",
       "        text-align: left;\n",
       "    }\n",
       "\n",
       "    .dataframe tbody tr th {\n",
       "        vertical-align: top;\n",
       "    }\n",
       "</style>\n",
       "<table border=\"1\" class=\"dataframe\">\n",
       "  <thead>\n",
       "    <tr style=\"text-align: right;\">\n",
       "      <th></th>\n",
       "      <th>chromosome</th>\n",
       "      <th>chromosome_start</th>\n",
       "      <th>chromosome_end</th>\n",
       "      <th>gene_symbol</th>\n",
       "      <th>score</th>\n",
       "      <th>strand_type</th>\n",
       "      <th>gene_id</th>\n",
       "      <th>gene_type</th>\n",
       "      <th>rpkm_expressions</th>\n",
       "    </tr>\n",
       "  </thead>\n",
       "  <tbody>\n",
       "    <tr>\n",
       "      <th>0</th>\n",
       "      <td>chr1</td>\n",
       "      <td>11868</td>\n",
       "      <td>13052</td>\n",
       "      <td>DDX11L1</td>\n",
       "      <td>15</td>\n",
       "      <td>+</td>\n",
       "      <td>ENSG00000223972</td>\n",
       "      <td>transcribed_unprocessed_pseudogene</td>\n",
       "      <td>0,0,0,0,0,0,0,0,0,0,0,0,0,0,0,0,0,0,0,0,0,0,0,...</td>\n",
       "    </tr>\n",
       "    <tr>\n",
       "      <th>1</th>\n",
       "      <td>chr1</td>\n",
       "      <td>14969</td>\n",
       "      <td>29806</td>\n",
       "      <td>WASH7P</td>\n",
       "      <td>427</td>\n",
       "      <td>-</td>\n",
       "      <td>ENSG00000227232</td>\n",
       "      <td>unprocessed_pseudogene</td>\n",
       "      <td>6.886,6.083,4.729,5.91,6.371,6.007,8.768,4.202...</td>\n",
       "    </tr>\n",
       "    <tr>\n",
       "      <th>2</th>\n",
       "      <td>chr1</td>\n",
       "      <td>29553</td>\n",
       "      <td>31109</td>\n",
       "      <td>RP11-34P13.3</td>\n",
       "      <td>63</td>\n",
       "      <td>+</td>\n",
       "      <td>ENSG00000243485</td>\n",
       "      <td>lincRNA</td>\n",
       "      <td>0,0,0,0,0,0,0,0.041,0.056,0.094,0.054,0.051,0....</td>\n",
       "    </tr>\n",
       "    <tr>\n",
       "      <th>3</th>\n",
       "      <td>chr1</td>\n",
       "      <td>34553</td>\n",
       "      <td>36081</td>\n",
       "      <td>FAM138A</td>\n",
       "      <td>0</td>\n",
       "      <td>-</td>\n",
       "      <td>ENSG00000237613</td>\n",
       "      <td>lincRNA</td>\n",
       "      <td>0,0,0,0,0,0,0,0,0,0,0,0,0,0,0,0,0,0,0,0,0,0,0,...</td>\n",
       "    </tr>\n",
       "    <tr>\n",
       "      <th>4</th>\n",
       "      <td>chr1</td>\n",
       "      <td>52472</td>\n",
       "      <td>54936</td>\n",
       "      <td>OR4G4P</td>\n",
       "      <td>0</td>\n",
       "      <td>+</td>\n",
       "      <td>ENSG00000268020</td>\n",
       "      <td>unprocessed_pseudogene</td>\n",
       "      <td>0,0,0,0,0,0,0,0,0,0,0,0,0,0,0,0,0,0,0,0,0,0,0,...</td>\n",
       "    </tr>\n",
       "    <tr>\n",
       "      <th>5</th>\n",
       "      <td>chr1</td>\n",
       "      <td>62947</td>\n",
       "      <td>63887</td>\n",
       "      <td>OR4G11P</td>\n",
       "      <td>0</td>\n",
       "      <td>+</td>\n",
       "      <td>ENSG00000240361</td>\n",
       "      <td>unprocessed_pseudogene</td>\n",
       "      <td>0,0,0,0,0,0,0,0,0,0,0,0,0,0,0,0,0,0,0,0,0,0,0,...</td>\n",
       "    </tr>\n",
       "    <tr>\n",
       "      <th>6</th>\n",
       "      <td>chr1</td>\n",
       "      <td>69090</td>\n",
       "      <td>70008</td>\n",
       "      <td>OR4F5</td>\n",
       "      <td>0</td>\n",
       "      <td>+</td>\n",
       "      <td>ENSG00000186092</td>\n",
       "      <td>protein_coding</td>\n",
       "      <td>0,0,0,0,0,0,0,0,0,0,0,0,0,0,0,0,0,0,0,0,0,0,0,...</td>\n",
       "    </tr>\n",
       "    <tr>\n",
       "      <th>7</th>\n",
       "      <td>chr1</td>\n",
       "      <td>92090</td>\n",
       "      <td>133566</td>\n",
       "      <td>RP11-34P13.7</td>\n",
       "      <td>140</td>\n",
       "      <td>-</td>\n",
       "      <td>ENSG00000238009</td>\n",
       "      <td>lincRNA</td>\n",
       "      <td>0.14,0.114,0.074,0.08,0.088,0.081,0.076,0.056,...</td>\n",
       "    </tr>\n",
       "    <tr>\n",
       "      <th>8</th>\n",
       "      <td>chr1</td>\n",
       "      <td>131024</td>\n",
       "      <td>134836</td>\n",
       "      <td>CICP27</td>\n",
       "      <td>54</td>\n",
       "      <td>+</td>\n",
       "      <td>ENSG00000233750</td>\n",
       "      <td>processed_pseudogene</td>\n",
       "      <td>0,0.013,0.005,0.002,0.003,0,0.01,0,0,0.004,0.0...</td>\n",
       "    </tr>\n",
       "    <tr>\n",
       "      <th>9</th>\n",
       "      <td>chr1</td>\n",
       "      <td>135140</td>\n",
       "      <td>135895</td>\n",
       "      <td>RP11-34P13.15</td>\n",
       "      <td>390</td>\n",
       "      <td>-</td>\n",
       "      <td>ENSG00000268903</td>\n",
       "      <td>processed_pseudogene</td>\n",
       "      <td>1.457,2.53,1.82,1.264,1.301,0.49,1.13,1.181,0....</td>\n",
       "    </tr>\n",
       "  </tbody>\n",
       "</table>\n",
       "</div>"
      ],
      "text/plain": [
       "  chromosome  chromosome_start  chromosome_end    gene_symbol  score  \\\n",
       "0       chr1             11868           13052        DDX11L1     15   \n",
       "1       chr1             14969           29806         WASH7P    427   \n",
       "2       chr1             29553           31109   RP11-34P13.3     63   \n",
       "3       chr1             34553           36081        FAM138A      0   \n",
       "4       chr1             52472           54936         OR4G4P      0   \n",
       "5       chr1             62947           63887        OR4G11P      0   \n",
       "6       chr1             69090           70008          OR4F5      0   \n",
       "7       chr1             92090          133566   RP11-34P13.7    140   \n",
       "8       chr1            131024          134836         CICP27     54   \n",
       "9       chr1            135140          135895  RP11-34P13.15    390   \n",
       "\n",
       "  strand_type          gene_id                           gene_type  \\\n",
       "0           +  ENSG00000223972  transcribed_unprocessed_pseudogene   \n",
       "1           -  ENSG00000227232              unprocessed_pseudogene   \n",
       "2           +  ENSG00000243485                             lincRNA   \n",
       "3           -  ENSG00000237613                             lincRNA   \n",
       "4           +  ENSG00000268020              unprocessed_pseudogene   \n",
       "5           +  ENSG00000240361              unprocessed_pseudogene   \n",
       "6           +  ENSG00000186092                      protein_coding   \n",
       "7           -  ENSG00000238009                             lincRNA   \n",
       "8           +  ENSG00000233750                processed_pseudogene   \n",
       "9           -  ENSG00000268903                processed_pseudogene   \n",
       "\n",
       "                                    rpkm_expressions  \n",
       "0  0,0,0,0,0,0,0,0,0,0,0,0,0,0,0,0,0,0,0,0,0,0,0,...  \n",
       "1  6.886,6.083,4.729,5.91,6.371,6.007,8.768,4.202...  \n",
       "2  0,0,0,0,0,0,0,0.041,0.056,0.094,0.054,0.051,0....  \n",
       "3  0,0,0,0,0,0,0,0,0,0,0,0,0,0,0,0,0,0,0,0,0,0,0,...  \n",
       "4  0,0,0,0,0,0,0,0,0,0,0,0,0,0,0,0,0,0,0,0,0,0,0,...  \n",
       "5  0,0,0,0,0,0,0,0,0,0,0,0,0,0,0,0,0,0,0,0,0,0,0,...  \n",
       "6  0,0,0,0,0,0,0,0,0,0,0,0,0,0,0,0,0,0,0,0,0,0,0,...  \n",
       "7  0.14,0.114,0.074,0.08,0.088,0.081,0.076,0.056,...  \n",
       "8  0,0.013,0.005,0.002,0.003,0,0.01,0,0,0.004,0.0...  \n",
       "9  1.457,2.53,1.82,1.264,1.301,0.49,1.13,1.181,0....  "
      ]
     },
     "execution_count": 32,
     "metadata": {},
     "output_type": "execute_result"
    }
   ],
   "source": [
    "genes.columns\n",
    "express.columns\n",
    "# tox.columns\n",
    "express.head(10)"
   ]
  },
  {
   "cell_type": "markdown",
   "metadata": {},
   "source": [
    "Notes:\n",
    "* HUGO Gene Nomenclature Committee. HGNC is responsible for approving unique symbols and names for human loci, including protein coding genes, ncRNA genes and pseudogenes, to allow unambiguous scientific communication. (https://www.genenames.org/)"
   ]
  },
  {
   "cell_type": "code",
   "execution_count": null,
   "metadata": {
    "collapsed": true
   },
   "outputs": [],
   "source": []
  }
 ],
 "metadata": {
  "kernelspec": {
   "display_name": "Python 3",
   "language": "python",
   "name": "python3"
  },
  "language_info": {
   "codemirror_mode": {
    "name": "ipython",
    "version": 3
   },
   "file_extension": ".py",
   "mimetype": "text/x-python",
   "name": "python",
   "nbconvert_exporter": "python",
   "pygments_lexer": "ipython3",
   "version": "3.5.3"
  }
 },
 "nbformat": 4,
 "nbformat_minor": 0
}
