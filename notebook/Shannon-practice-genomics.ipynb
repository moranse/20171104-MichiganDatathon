{
 "cells": [
  {
   "cell_type": "code",
   "execution_count": 1,
   "metadata": {
    "collapsed": true
   },
   "outputs": [],
   "source": [
    "import pandas as pd\n",
    "import numpy as np"
   ]
  },
  {
   "cell_type": "markdown",
   "metadata": {},
   "source": [
    "Order of operations for working with new data-set:\n",
    "1. Import data\n",
    "2. Quick check data"
   ]
  },
  {
   "cell_type": "code",
   "execution_count": 33,
   "metadata": {
    "collapsed": false
   },
   "outputs": [
    {
     "name": "stdout",
     "output_type": "stream",
     "text": [
      "\u001b[31mOrgan_gene_relation.csv\u001b[m\u001b[m*      \u001b[31mgenes.csv\u001b[m\u001b[m*                    \u001b[31mgtex_gene_expression.csv\u001b[m\u001b[m*     \u001b[31mselected_gene_disease.csv\u001b[m\u001b[m*    source.txt                    \u001b[31mtoxicogenomics_chemicals.csv\u001b[m\u001b[m*\r\n"
     ]
    }
   ],
   "source": [
    "% ls data-genomics/"
   ]
  },
  {
   "cell_type": "code",
   "execution_count": 10,
   "metadata": {
    "collapsed": false
   },
   "outputs": [
    {
     "name": "stdout",
     "output_type": "stream",
     "text": [
      "height has been deprecated.\n",
      "\n"
     ]
    }
   ],
   "source": [
    "pd.set_option('display.height', 500)\n",
    "pd.set_option('display.max_rows', 500)\n",
    "data_folder = 'data-genomics/'\n",
    "\n",
    "genes = pd.read_csv(data_folder + 'genes.csv')\n",
    "organs = pd.read_csv(data_folder + 'Organ_gene_relation.csv')\n",
    "disease = pd.read_csv(data_folder + 'selected_gene_disease.csv')\n",
    "express = pd.read_csv(data_folder + 'gtex_gene_expression.csv')\n",
    "tox = pd.read_csv(data_folder + 'toxicogenomics_chemicals.csv')"
   ]
  },
  {
   "cell_type": "markdown",
   "metadata": {},
   "source": [
    "What need to happen:\n",
    "1. Checklist for cleaning data\n",
    "2. How to quickly screen for interesting things\n",
    "3. Plan for working through data"
   ]
  },
  {
   "cell_type": "code",
   "execution_count": 27,
   "metadata": {
    "collapsed": false,
    "scrolled": true
   },
   "outputs": [
    {
     "data": {
      "text/plain": [
       "Index(['ensembl_id', 'entrez_id', 'hgnc_symbol', 'hgnc_name',\n",
       "       'cytogenetic_location', 'uni_protein_id', 'gene_biotype'],\n",
       "      dtype='object')"
      ]
     },
     "execution_count": 27,
     "metadata": {},
     "output_type": "execute_result"
    }
   ],
   "source": [
    "genes.head(10)"
   ]
  },
  {
   "cell_type": "code",
   "execution_count": 26,
   "metadata": {
    "collapsed": false,
    "scrolled": true
   },
   "outputs": [
    {
     "data": {
      "text/plain": [
       "['3prime_overlapping_ncrna',\n",
       " 'IG_C_gene',\n",
       " 'IG_C_pseudogene',\n",
       " 'IG_D_gene',\n",
       " 'IG_J_gene',\n",
       " 'IG_J_pseudogene',\n",
       " 'IG_V_gene',\n",
       " 'IG_V_pseudogene',\n",
       " 'Mt_rRNA',\n",
       " 'Mt_tRNA',\n",
       " 'TEC',\n",
       " 'TR_C_gene',\n",
       " 'TR_D_gene',\n",
       " 'TR_J_gene',\n",
       " 'TR_J_pseudogene',\n",
       " 'TR_V_gene',\n",
       " 'TR_V_pseudogene',\n",
       " 'antisense',\n",
       " 'bidirectional_promoter_lncrna',\n",
       " 'lincRNA',\n",
       " 'miRNA',\n",
       " 'misc_RNA',\n",
       " 'polymorphic_pseudogene',\n",
       " 'processed_pseudogene',\n",
       " 'processed_transcript',\n",
       " 'protein_coding',\n",
       " 'rRNA',\n",
       " 'ribozyme',\n",
       " 'scaRNA',\n",
       " 'sense_intronic',\n",
       " 'sense_overlapping',\n",
       " 'snRNA',\n",
       " 'snoRNA',\n",
       " 'transcribed_processed_pseudogene',\n",
       " 'transcribed_unitary_pseudogene',\n",
       " 'transcribed_unprocessed_pseudogene',\n",
       " 'translated_unprocessed_pseudogene',\n",
       " 'unitary_pseudogene',\n",
       " 'unprocessed_pseudogene',\n",
       " 'vaultRNA']"
      ]
     },
     "execution_count": 26,
     "metadata": {},
     "output_type": "execute_result"
    }
   ],
   "source": [
    "express.head(10)\n",
    "list(np.sort(express['gene_type'].unique()))"
   ]
  },
  {
   "cell_type": "code",
   "execution_count": 14,
   "metadata": {
    "collapsed": false
   },
   "outputs": [
    {
     "data": {
      "text/plain": [
       "(55374, 6)"
      ]
     },
     "execution_count": 14,
     "metadata": {},
     "output_type": "execute_result"
    }
   ],
   "source": [
    "# genes.shape\n",
    "# express.shape\n",
    "tox.shape"
   ]
  },
  {
   "cell_type": "code",
   "execution_count": 32,
   "metadata": {
    "collapsed": false
   },
   "outputs": [
    {
     "data": {
      "text/html": [
       "<div>\n",
       "<style>\n",
       "    .dataframe thead tr:only-child th {\n",
       "        text-align: right;\n",
       "    }\n",
       "\n",
       "    .dataframe thead th {\n",
       "        text-align: left;\n",
       "    }\n",
       "\n",
       "    .dataframe tbody tr th {\n",
       "        vertical-align: top;\n",
       "    }\n",
       "</style>\n",
       "<table border=\"1\" class=\"dataframe\">\n",
       "  <thead>\n",
       "    <tr style=\"text-align: right;\">\n",
       "      <th></th>\n",
       "      <th>chromosome</th>\n",
       "      <th>chromosome_start</th>\n",
       "      <th>chromosome_end</th>\n",
       "      <th>gene_symbol</th>\n",
       "      <th>score</th>\n",
       "      <th>strand_type</th>\n",
       "      <th>gene_id</th>\n",
       "      <th>gene_type</th>\n",
       "      <th>rpkm_expressions</th>\n",
       "    </tr>\n",
       "  </thead>\n",
       "  <tbody>\n",
       "    <tr>\n",
       "      <th>0</th>\n",
       "      <td>chr1</td>\n",
       "      <td>11868</td>\n",
       "      <td>13052</td>\n",
       "      <td>DDX11L1</td>\n",
       "      <td>15</td>\n",
       "      <td>+</td>\n",
       "      <td>ENSG00000223972</td>\n",
       "      <td>transcribed_unprocessed_pseudogene</td>\n",
       "      <td>0,0,0,0,0,0,0,0,0,0,0,0,0,0,0,0,0,0,0,0,0,0,0,...</td>\n",
       "    </tr>\n",
       "    <tr>\n",
       "      <th>1</th>\n",
       "      <td>chr1</td>\n",
       "      <td>14969</td>\n",
       "      <td>29806</td>\n",
       "      <td>WASH7P</td>\n",
       "      <td>427</td>\n",
       "      <td>-</td>\n",
       "      <td>ENSG00000227232</td>\n",
       "      <td>unprocessed_pseudogene</td>\n",
       "      <td>6.886,6.083,4.729,5.91,6.371,6.007,8.768,4.202...</td>\n",
       "    </tr>\n",
       "    <tr>\n",
       "      <th>2</th>\n",
       "      <td>chr1</td>\n",
       "      <td>29553</td>\n",
       "      <td>31109</td>\n",
       "      <td>RP11-34P13.3</td>\n",
       "      <td>63</td>\n",
       "      <td>+</td>\n",
       "      <td>ENSG00000243485</td>\n",
       "      <td>lincRNA</td>\n",
       "      <td>0,0,0,0,0,0,0,0.041,0.056,0.094,0.054,0.051,0....</td>\n",
       "    </tr>\n",
       "    <tr>\n",
       "      <th>3</th>\n",
       "      <td>chr1</td>\n",
       "      <td>34553</td>\n",
       "      <td>36081</td>\n",
       "      <td>FAM138A</td>\n",
       "      <td>0</td>\n",
       "      <td>-</td>\n",
       "      <td>ENSG00000237613</td>\n",
       "      <td>lincRNA</td>\n",
       "      <td>0,0,0,0,0,0,0,0,0,0,0,0,0,0,0,0,0,0,0,0,0,0,0,...</td>\n",
       "    </tr>\n",
       "    <tr>\n",
       "      <th>4</th>\n",
       "      <td>chr1</td>\n",
       "      <td>52472</td>\n",
       "      <td>54936</td>\n",
       "      <td>OR4G4P</td>\n",
       "      <td>0</td>\n",
       "      <td>+</td>\n",
       "      <td>ENSG00000268020</td>\n",
       "      <td>unprocessed_pseudogene</td>\n",
       "      <td>0,0,0,0,0,0,0,0,0,0,0,0,0,0,0,0,0,0,0,0,0,0,0,...</td>\n",
       "    </tr>\n",
       "    <tr>\n",
       "      <th>5</th>\n",
       "      <td>chr1</td>\n",
       "      <td>62947</td>\n",
       "      <td>63887</td>\n",
       "      <td>OR4G11P</td>\n",
       "      <td>0</td>\n",
       "      <td>+</td>\n",
       "      <td>ENSG00000240361</td>\n",
       "      <td>unprocessed_pseudogene</td>\n",
       "      <td>0,0,0,0,0,0,0,0,0,0,0,0,0,0,0,0,0,0,0,0,0,0,0,...</td>\n",
       "    </tr>\n",
       "    <tr>\n",
       "      <th>6</th>\n",
       "      <td>chr1</td>\n",
       "      <td>69090</td>\n",
       "      <td>70008</td>\n",
       "      <td>OR4F5</td>\n",
       "      <td>0</td>\n",
       "      <td>+</td>\n",
       "      <td>ENSG00000186092</td>\n",
       "      <td>protein_coding</td>\n",
       "      <td>0,0,0,0,0,0,0,0,0,0,0,0,0,0,0,0,0,0,0,0,0,0,0,...</td>\n",
       "    </tr>\n",
       "    <tr>\n",
       "      <th>7</th>\n",
       "      <td>chr1</td>\n",
       "      <td>92090</td>\n",
       "      <td>133566</td>\n",
       "      <td>RP11-34P13.7</td>\n",
       "      <td>140</td>\n",
       "      <td>-</td>\n",
       "      <td>ENSG00000238009</td>\n",
       "      <td>lincRNA</td>\n",
       "      <td>0.14,0.114,0.074,0.08,0.088,0.081,0.076,0.056,...</td>\n",
       "    </tr>\n",
       "    <tr>\n",
       "      <th>8</th>\n",
       "      <td>chr1</td>\n",
       "      <td>131024</td>\n",
       "      <td>134836</td>\n",
       "      <td>CICP27</td>\n",
       "      <td>54</td>\n",
       "      <td>+</td>\n",
       "      <td>ENSG00000233750</td>\n",
       "      <td>processed_pseudogene</td>\n",
       "      <td>0,0.013,0.005,0.002,0.003,0,0.01,0,0,0.004,0.0...</td>\n",
       "    </tr>\n",
       "    <tr>\n",
       "      <th>9</th>\n",
       "      <td>chr1</td>\n",
       "      <td>135140</td>\n",
       "      <td>135895</td>\n",
       "      <td>RP11-34P13.15</td>\n",
       "      <td>390</td>\n",
       "      <td>-</td>\n",
       "      <td>ENSG00000268903</td>\n",
       "      <td>processed_pseudogene</td>\n",
       "      <td>1.457,2.53,1.82,1.264,1.301,0.49,1.13,1.181,0....</td>\n",
       "    </tr>\n",
       "  </tbody>\n",
       "</table>\n",
       "</div>"
      ],
      "text/plain": [
       "  chromosome  chromosome_start  chromosome_end    gene_symbol  score  \\\n",
       "0       chr1             11868           13052        DDX11L1     15   \n",
       "1       chr1             14969           29806         WASH7P    427   \n",
       "2       chr1             29553           31109   RP11-34P13.3     63   \n",
       "3       chr1             34553           36081        FAM138A      0   \n",
       "4       chr1             52472           54936         OR4G4P      0   \n",
       "5       chr1             62947           63887        OR4G11P      0   \n",
       "6       chr1             69090           70008          OR4F5      0   \n",
       "7       chr1             92090          133566   RP11-34P13.7    140   \n",
       "8       chr1            131024          134836         CICP27     54   \n",
       "9       chr1            135140          135895  RP11-34P13.15    390   \n",
       "\n",
       "  strand_type          gene_id                           gene_type  \\\n",
       "0           +  ENSG00000223972  transcribed_unprocessed_pseudogene   \n",
       "1           -  ENSG00000227232              unprocessed_pseudogene   \n",
       "2           +  ENSG00000243485                             lincRNA   \n",
       "3           -  ENSG00000237613                             lincRNA   \n",
       "4           +  ENSG00000268020              unprocessed_pseudogene   \n",
       "5           +  ENSG00000240361              unprocessed_pseudogene   \n",
       "6           +  ENSG00000186092                      protein_coding   \n",
       "7           -  ENSG00000238009                             lincRNA   \n",
       "8           +  ENSG00000233750                processed_pseudogene   \n",
       "9           -  ENSG00000268903                processed_pseudogene   \n",
       "\n",
       "                                    rpkm_expressions  \n",
       "0  0,0,0,0,0,0,0,0,0,0,0,0,0,0,0,0,0,0,0,0,0,0,0,...  \n",
       "1  6.886,6.083,4.729,5.91,6.371,6.007,8.768,4.202...  \n",
       "2  0,0,0,0,0,0,0,0.041,0.056,0.094,0.054,0.051,0....  \n",
       "3  0,0,0,0,0,0,0,0,0,0,0,0,0,0,0,0,0,0,0,0,0,0,0,...  \n",
       "4  0,0,0,0,0,0,0,0,0,0,0,0,0,0,0,0,0,0,0,0,0,0,0,...  \n",
       "5  0,0,0,0,0,0,0,0,0,0,0,0,0,0,0,0,0,0,0,0,0,0,0,...  \n",
       "6  0,0,0,0,0,0,0,0,0,0,0,0,0,0,0,0,0,0,0,0,0,0,0,...  \n",
       "7  0.14,0.114,0.074,0.08,0.088,0.081,0.076,0.056,...  \n",
       "8  0,0.013,0.005,0.002,0.003,0,0.01,0,0,0.004,0.0...  \n",
       "9  1.457,2.53,1.82,1.264,1.301,0.49,1.13,1.181,0....  "
      ]
     },
     "execution_count": 32,
     "metadata": {},
     "output_type": "execute_result"
    }
   ],
   "source": [
    "genes.columns\n",
    "express.columns\n",
    "# tox.columns\n",
    "express.head(10)"
   ]
  },
  {
   "cell_type": "markdown",
   "metadata": {},
   "source": [
    "Notes:\n",
    "* HUGO Gene Nomenclature Committee. HGNC is responsible for approving unique symbols and names for human loci, including protein coding genes, ncRNA genes and pseudogenes, to allow unambiguous scientific communication. (https://www.genenames.org/)"
   ]
  },
  {
   "cell_type": "code",
   "execution_count": null,
   "metadata": {
    "collapsed": true
   },
   "outputs": [],
   "source": []
  }
 ],
 "metadata": {
  "kernelspec": {
   "display_name": "Python 3",
   "language": "python",
   "name": "python3"
  },
  "language_info": {
   "codemirror_mode": {
    "name": "ipython",
    "version": 3
   },
   "file_extension": ".py",
   "mimetype": "text/x-python",
   "name": "python",
   "nbconvert_exporter": "python",
   "pygments_lexer": "ipython3",
   "version": "3.5.3"
  }
 },
 "nbformat": 4,
 "nbformat_minor": 0
}
