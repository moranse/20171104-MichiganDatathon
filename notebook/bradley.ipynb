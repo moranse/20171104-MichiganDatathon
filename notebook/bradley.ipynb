{
 "cells": [
  {
   "cell_type": "code",
   "execution_count": 1,
   "metadata": {
    "collapsed": false
   },
   "outputs": [
    {
     "name": "stdout",
     "output_type": "stream",
     "text": [
      "height has been deprecated.\n",
      "\n"
     ]
    }
   ],
   "source": [
    "import pandas as pd\n",
    "import numpy as np\n",
    "from pandas.api.types import is_numeric_dtype, is_datetime64_dtype\n",
    "pd.set_option('display.height', 500)\n",
    "pd.set_option('display.max_rows', 500)\n",
    "data_folder = 'data/'\n",
    "listings = pd.read_csv(data_folder + 'listings.csv')\n",
    "reviews = pd.read_csv(data_folder + 'reviews.csv')\n",
    "calendar = pd.read_csv(data_folder + 'calendar.csv')\n",
    "neighborhoods = pd.read_csv(data_folder + 'neighbourhoods.csv')"
   ]
  },
  {
   "cell_type": "code",
   "execution_count": 2,
   "metadata": {
    "collapsed": false
   },
   "outputs": [
    {
     "data": {
      "text/plain": [
       "id                                    int64\n",
       "listing_url                          object\n",
       "scrape_id                             int64\n",
       "last_scraped                         object\n",
       "name                                 object\n",
       "summary                              object\n",
       "space                                object\n",
       "description                          object\n",
       "experiences_offered                  object\n",
       "neighborhood_overview                object\n",
       "notes                                object\n",
       "transit                              object\n",
       "access                               object\n",
       "interaction                          object\n",
       "house_rules                          object\n",
       "thumbnail_url                        object\n",
       "medium_url                           object\n",
       "picture_url                          object\n",
       "xl_picture_url                       object\n",
       "host_id                               int64\n",
       "host_url                             object\n",
       "host_name                            object\n",
       "host_since                           object\n",
       "host_location                        object\n",
       "host_about                           object\n",
       "host_response_time                   object\n",
       "host_response_rate                   object\n",
       "host_acceptance_rate                float64\n",
       "host_is_superhost                    object\n",
       "host_thumbnail_url                   object\n",
       "host_picture_url                     object\n",
       "host_neighbourhood                   object\n",
       "host_listings_count                   int64\n",
       "host_total_listings_count             int64\n",
       "host_verifications                   object\n",
       "host_has_profile_pic                 object\n",
       "host_identity_verified               object\n",
       "street                               object\n",
       "neighbourhood                        object\n",
       "neighbourhood_cleansed               object\n",
       "neighbourhood_group_cleansed        float64\n",
       "city                                 object\n",
       "state                                object\n",
       "zipcode                              object\n",
       "market                               object\n",
       "smart_location                       object\n",
       "country_code                         object\n",
       "country                              object\n",
       "latitude                            float64\n",
       "longitude                           float64\n",
       "is_location_exact                    object\n",
       "property_type                        object\n",
       "room_type                            object\n",
       "accommodates                          int64\n",
       "bathrooms                           float64\n",
       "bedrooms                            float64\n",
       "beds                                float64\n",
       "bed_type                             object\n",
       "amenities                            object\n",
       "square_feet                         float64\n",
       "price                                object\n",
       "weekly_price                         object\n",
       "monthly_price                        object\n",
       "security_deposit                     object\n",
       "cleaning_fee                         object\n",
       "guests_included                       int64\n",
       "extra_people                         object\n",
       "minimum_nights                        int64\n",
       "maximum_nights                        int64\n",
       "calendar_updated                     object\n",
       "has_availability                     object\n",
       "availability_30                       int64\n",
       "availability_60                       int64\n",
       "availability_90                       int64\n",
       "availability_365                      int64\n",
       "calendar_last_scraped                object\n",
       "number_of_reviews                     int64\n",
       "first_review                         object\n",
       "last_review                          object\n",
       "review_scores_rating                float64\n",
       "review_scores_accuracy              float64\n",
       "review_scores_cleanliness           float64\n",
       "review_scores_checkin               float64\n",
       "review_scores_communication         float64\n",
       "review_scores_location              float64\n",
       "review_scores_value                 float64\n",
       "requires_license                     object\n",
       "license                             float64\n",
       "jurisdiction_names                  float64\n",
       "instant_bookable                     object\n",
       "is_business_travel_ready             object\n",
       "cancellation_policy                  object\n",
       "require_guest_profile_picture        object\n",
       "require_guest_phone_verification     object\n",
       "calculated_host_listings_count        int64\n",
       "reviews_per_month                   float64\n",
       "dtype: object"
      ]
     },
     "execution_count": 2,
     "metadata": {},
     "output_type": "execute_result"
    }
   ],
   "source": [
    "listings.dtypes"
   ]
  },
  {
   "cell_type": "code",
   "execution_count": 3,
   "metadata": {
    "collapsed": false
   },
   "outputs": [
    {
     "data": {
      "text/plain": [
       "id                                                                           20872145\n",
       "listing_url                                     https://www.airbnb.com/rooms/20872145\n",
       "scrape_id                                                              20171005235014\n",
       "last_scraped                                                               2017-10-06\n",
       "name                                                      Charming Boston Residential\n",
       "summary                             Berber carpeting. The living room has two full...\n",
       "space                                                       It's on the second floor.\n",
       "description                         Berber carpeting. The living room has two full...\n",
       "experiences_offered                                                              none\n",
       "neighborhood_overview               Roslindale is an amazing up and coming town in...\n",
       "notes                                                                             NaN\n",
       "transit                             Public transportation (about a two minute walk...\n",
       "access                              You have access to the bathroom, livingroom, k...\n",
       "interaction                         I work full time and will be at the space in t...\n",
       "house_rules                                                                       NaN\n",
       "thumbnail_url                       https://a0.muscache.com/im/pictures/3cf36714-5...\n",
       "medium_url                          https://a0.muscache.com/im/pictures/3cf36714-5...\n",
       "picture_url                         https://a0.muscache.com/im/pictures/3cf36714-5...\n",
       "xl_picture_url                      https://a0.muscache.com/im/pictures/3cf36714-5...\n",
       "host_id                                                                      94870110\n",
       "host_url                                   https://www.airbnb.com/users/show/94870110\n",
       "host_name                                                                         Zay\n",
       "host_since                                                                 2016-09-12\n",
       "host_location                                            Massachusetts, United States\n",
       "host_about                                                                        NaN\n",
       "host_response_time                                                 within a few hours\n",
       "host_response_rate                                                               100%\n",
       "host_acceptance_rate                                                              NaN\n",
       "host_is_superhost                                                                   f\n",
       "host_thumbnail_url                  https://a0.muscache.com/im/pictures/user/4367c...\n",
       "host_picture_url                    https://a0.muscache.com/im/pictures/user/4367c...\n",
       "host_neighbourhood                                                         Roslindale\n",
       "host_listings_count                                                                 1\n",
       "host_total_listings_count                                                           1\n",
       "host_verifications                  ['email', 'phone', 'google', 'reviews', 'jumio...\n",
       "host_has_profile_pic                                                                t\n",
       "host_identity_verified                                                              t\n",
       "street                                                      Boston, MA, United States\n",
       "neighbourhood                                                              Roslindale\n",
       "neighbourhood_cleansed                                                     Roslindale\n",
       "neighbourhood_group_cleansed                                                      NaN\n",
       "city                                                                           Boston\n",
       "state                                                                              MA\n",
       "zipcode                                                                         02131\n",
       "market                                                                         Boston\n",
       "smart_location                                                             Boston, MA\n",
       "country_code                                                                       US\n",
       "country                                                                 United States\n",
       "latitude                                                                       42.275\n",
       "longitude                                                                    -71.1397\n",
       "is_location_exact                                                                   t\n",
       "property_type                                                               Apartment\n",
       "room_type                                                                Private room\n",
       "accommodates                                                                        2\n",
       "bathrooms                                                                           1\n",
       "bedrooms                                                                            0\n",
       "beds                                                                                1\n",
       "bed_type                                                                     Real Bed\n",
       "amenities                           {\"Wireless Internet\",Gym,Heating,\"Smoke detect...\n",
       "square_feet                                                                       NaN\n",
       "price                                                                          $60.00\n",
       "weekly_price                                                                      NaN\n",
       "monthly_price                                                                     NaN\n",
       "security_deposit                                                              $100.00\n",
       "cleaning_fee                                                                   $10.00\n",
       "guests_included                                                                     2\n",
       "extra_people                                                                   $30.00\n",
       "minimum_nights                                                                      1\n",
       "maximum_nights                                                                      8\n",
       "calendar_updated                                                            yesterday\n",
       "has_availability                                                                    t\n",
       "availability_30                                                                    16\n",
       "availability_60                                                                    44\n",
       "availability_90                                                                    74\n",
       "availability_365                                                                  164\n",
       "calendar_last_scraped                                                      2017-10-06\n",
       "number_of_reviews                                                                   2\n",
       "first_review                                                               2017-09-16\n",
       "last_review                                                                2017-09-20\n",
       "review_scores_rating                                                               80\n",
       "review_scores_accuracy                                                              8\n",
       "review_scores_cleanliness                                                          10\n",
       "review_scores_checkin                                                              10\n",
       "review_scores_communication                                                         8\n",
       "review_scores_location                                                              8\n",
       "review_scores_value                                                                 8\n",
       "requires_license                                                                    f\n",
       "license                                                                           NaN\n",
       "jurisdiction_names                                                                NaN\n",
       "instant_bookable                                                                    t\n",
       "is_business_travel_ready                                                            f\n",
       "cancellation_policy                                                          moderate\n",
       "require_guest_profile_picture                                                       f\n",
       "require_guest_phone_verification                                                    f\n",
       "calculated_host_listings_count                                                      1\n",
       "reviews_per_month                                                                   2\n",
       "Name: 0, dtype: object"
      ]
     },
     "execution_count": 3,
     "metadata": {},
     "output_type": "execute_result"
    }
   ],
   "source": [
    "listings.loc[0]"
   ]
  },
  {
   "cell_type": "code",
   "execution_count": 4,
   "metadata": {
    "collapsed": false
   },
   "outputs": [],
   "source": [
    "date_columns = ['first_review', 'last_review', 'calendar_last_scraped', 'host_since', 'last_scraped']\n",
    "for col in date_columns:\n",
    "    if not is_datetime64_dtype(listings[col]):\n",
    "        listings[col] = pd.to_datetime(listings[col])\n",
    "price_columns = ['price', 'weekly_price', 'monthly_price', 'security_deposit', 'cleaning_fee', 'extra_people']\n",
    "for col in price_columns:\n",
    "    if not is_numeric_dtype(listings[col]):\n",
    "        listings[col] = listings[col].str.replace('$', '')\n",
    "        listings[col] = listings[col].str.replace(',', '')\n",
    "        listings[col] = listings[col].astype(np.float64)"
   ]
  },
  {
   "cell_type": "code",
   "execution_count": 5,
   "metadata": {
    "collapsed": false
   },
   "outputs": [
    {
     "data": {
      "text/plain": [
       "Timestamp('2017-09-16 00:00:00')"
      ]
     },
     "execution_count": 5,
     "metadata": {},
     "output_type": "execute_result"
    }
   ],
   "source": [
    "listings.loc[0]['first_review']"
   ]
  }
 ],
 "metadata": {
  "kernelspec": {
   "display_name": "Python [conda env:glotzer]",
   "language": "python",
   "name": "conda-env-glotzer-py"
  },
  "language_info": {
   "codemirror_mode": {
    "name": "ipython",
    "version": 3
   },
   "file_extension": ".py",
   "mimetype": "text/x-python",
   "name": "python",
   "nbconvert_exporter": "python",
   "pygments_lexer": "ipython3",
   "version": "3.4.5"
  }
 },
 "nbformat": 4,
 "nbformat_minor": 2
}
