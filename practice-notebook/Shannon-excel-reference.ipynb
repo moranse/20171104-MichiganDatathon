{
 "cells": [
  {
   "cell_type": "code",
   "execution_count": 2,
   "metadata": {
    "collapsed": false
   },
   "outputs": [
    {
     "name": "stdout",
     "output_type": "stream",
     "text": [
      "height has been deprecated.\n",
      "\n"
     ]
    }
   ],
   "source": [
    "# Obviously\n",
    "import pandas as pd\n",
    "import numpy as np\n",
    "\n",
    "# Plotting set-up\n",
    "import matplotlib as mpl\n",
    "import matplotlib.pyplot as plt\n",
    "from matplotlib import rc\n",
    "# Command to reset plot styles to default: mpl.rcParams.update(mpl.rcParamsDefault)\n",
    "plt.style.use('seaborn-poster')\n",
    "mpl.rcParams['font.family'] = 'serif'\n",
    "% matplotlib inline\n",
    "\n",
    "# Other packages we might need\n",
    "#! pip install quandl\n",
    "import quandl\n",
    "\n",
    "# Options\n",
    "pd.set_option('display.height', 500)\n",
    "pd.set_option('display.max_rows', 500)\n",
    "data_folder = 'data/'"
   ]
  },
  {
   "cell_type": "markdown",
   "metadata": {},
   "source": [
    "# Helpful list of things to do\n",
    "* Preprocessing data, exploratory work, feature identification: https://github.com/ShuaiW/ml-cheatsheet\n",
    "* sklearn examples: https://www.datacamp.com/community/blog/scikit-learn-cheat-sheet"
   ]
  },
  {
   "cell_type": "markdown",
   "metadata": {},
   "source": [
    "# Things from Excel that I want to be able to do quickly\n",
    "* See unique values in a data set\n",
    "* Drop/add columns based on formulas = filter\n",
    "* Manipulate text strings\n",
    "* Index match\n",
    "* Sumif (s)\n",
    "* Countif (s)\n",
    "* Map & replace with values from another source\n",
    "* Reformat datatype\n",
    "* Pivot tables: http://pbpython.com/pandas-pivot-table-explained.html"
   ]
  },
  {
   "cell_type": "markdown",
   "metadata": {},
   "source": [
    "# Loading data\n",
    "1. Load\n",
    "2. Visualize data, check types\n",
    "3. Merge data\n",
    "4. Drop irrelevant columns\n",
    "5. Split out relevant columns (dictionaries, etc)\n",
    "6. Add relevant summary columns"
   ]
  },
  {
   "cell_type": "code",
   "execution_count": 10,
   "metadata": {
    "collapsed": false
   },
   "outputs": [],
   "source": [
    "listings = pd.read_csv(data_folder + 'listings.csv')\n",
    "reviews = pd.read_csv(data_folder + 'reviews.csv')\n",
    "calendar = pd.read_csv(data_folder + 'calendar.csv', parse_dates=True)\n",
    "neighborhoods = pd.read_csv(data_folder + 'neighbourhoods.csv')"
   ]
  },
  {
   "cell_type": "code",
   "execution_count": 11,
   "metadata": {
    "collapsed": false
   },
   "outputs": [
    {
     "data": {
      "text/plain": [
       "array([[20872145, '2018-09-22', 'f', nan],\n",
       "       [20872145, '2018-09-21', 'f', nan],\n",
       "       [20872145, '2018-09-20', 'f', nan],\n",
       "       ..., \n",
       "       [19830978, '2017-10-08', 't', '$65.00'],\n",
       "       [19830978, '2017-10-07', 'f', nan],\n",
       "       [19830978, '2017-10-06', 'f', nan]], dtype=object)"
      ]
     },
     "execution_count": 11,
     "metadata": {},
     "output_type": "execute_result"
    }
   ],
   "source": [
    "calendar.values"
   ]
  },
  {
   "cell_type": "code",
   "execution_count": null,
   "metadata": {
    "collapsed": false,
    "scrolled": false
   },
   "outputs": [],
   "source": [
    "# Check the dypes of the headers\n",
    "listings.dtypes"
   ]
  },
  {
   "cell_type": "code",
   "execution_count": 25,
   "metadata": {
    "collapsed": false
   },
   "outputs": [
    {
     "data": {
      "text/plain": [
       "array([[20872145, 'https://www.airbnb.com/rooms/20872145', 20171005235014,\n",
       "        ..., 'f', 1, 2.0],\n",
       "       [13937181, 'https://www.airbnb.com/rooms/13937181', 20171005235014,\n",
       "        ..., 'f', 1, 1.97],\n",
       "       [3575220, 'https://www.airbnb.com/rooms/3575220', 20171005235014,\n",
       "        ..., 'f', 3, 0.45],\n",
       "       ..., \n",
       "       [21067520, 'https://www.airbnb.com/rooms/21067520', 20171005235014,\n",
       "        ..., 'f', 1, 1.0],\n",
       "       [14287125, 'https://www.airbnb.com/rooms/14287125', 20171005235014,\n",
       "        ..., 'f', 1, nan],\n",
       "       [19830978, 'https://www.airbnb.com/rooms/19830978', 20171005235014,\n",
       "        ..., 'f', 2, 1.58]], dtype=object)"
      ]
     },
     "execution_count": 25,
     "metadata": {},
     "output_type": "execute_result"
    }
   ],
   "source": [
    "# Get actual values (also works for series)\n",
    "listings.values"
   ]
  },
  {
   "cell_type": "code",
   "execution_count": 27,
   "metadata": {
    "collapsed": false
   },
   "outputs": [
    {
     "data": {
      "text/html": [
       "<div>\n",
       "<style>\n",
       "    .dataframe thead tr:only-child th {\n",
       "        text-align: right;\n",
       "    }\n",
       "\n",
       "    .dataframe thead th {\n",
       "        text-align: left;\n",
       "    }\n",
       "\n",
       "    .dataframe tbody tr th {\n",
       "        vertical-align: top;\n",
       "    }\n",
       "</style>\n",
       "<table border=\"1\" class=\"dataframe\">\n",
       "  <thead>\n",
       "    <tr style=\"text-align: right;\">\n",
       "      <th></th>\n",
       "      <th>id</th>\n",
       "      <th>scrape_id</th>\n",
       "      <th>host_id</th>\n",
       "      <th>host_acceptance_rate</th>\n",
       "      <th>host_listings_count</th>\n",
       "      <th>host_total_listings_count</th>\n",
       "      <th>neighbourhood_group_cleansed</th>\n",
       "      <th>latitude</th>\n",
       "      <th>longitude</th>\n",
       "      <th>accommodates</th>\n",
       "      <th>...</th>\n",
       "      <th>review_scores_accuracy</th>\n",
       "      <th>review_scores_cleanliness</th>\n",
       "      <th>review_scores_checkin</th>\n",
       "      <th>review_scores_communication</th>\n",
       "      <th>review_scores_location</th>\n",
       "      <th>review_scores_value</th>\n",
       "      <th>license</th>\n",
       "      <th>jurisdiction_names</th>\n",
       "      <th>calculated_host_listings_count</th>\n",
       "      <th>reviews_per_month</th>\n",
       "    </tr>\n",
       "  </thead>\n",
       "  <tbody>\n",
       "    <tr>\n",
       "      <th>count</th>\n",
       "      <td>1.000000e+01</td>\n",
       "      <td>1.000000e+01</td>\n",
       "      <td>1.000000e+01</td>\n",
       "      <td>0.0</td>\n",
       "      <td>10.000000</td>\n",
       "      <td>10.000000</td>\n",
       "      <td>0.0</td>\n",
       "      <td>10.000000</td>\n",
       "      <td>10.000000</td>\n",
       "      <td>10.000000</td>\n",
       "      <td>...</td>\n",
       "      <td>10.000000</td>\n",
       "      <td>10.000000</td>\n",
       "      <td>10.0</td>\n",
       "      <td>10.000000</td>\n",
       "      <td>10.000000</td>\n",
       "      <td>10.000000</td>\n",
       "      <td>0.0</td>\n",
       "      <td>0.0</td>\n",
       "      <td>10.000000</td>\n",
       "      <td>10.0000</td>\n",
       "    </tr>\n",
       "    <tr>\n",
       "      <th>mean</th>\n",
       "      <td>1.265288e+07</td>\n",
       "      <td>2.017101e+13</td>\n",
       "      <td>6.220443e+07</td>\n",
       "      <td>NaN</td>\n",
       "      <td>1.900000</td>\n",
       "      <td>1.900000</td>\n",
       "      <td>NaN</td>\n",
       "      <td>42.282457</td>\n",
       "      <td>-71.137379</td>\n",
       "      <td>2.600000</td>\n",
       "      <td>...</td>\n",
       "      <td>9.700000</td>\n",
       "      <td>9.800000</td>\n",
       "      <td>10.0</td>\n",
       "      <td>9.800000</td>\n",
       "      <td>9.000000</td>\n",
       "      <td>9.400000</td>\n",
       "      <td>NaN</td>\n",
       "      <td>NaN</td>\n",
       "      <td>1.900000</td>\n",
       "      <td>1.2380</td>\n",
       "    </tr>\n",
       "    <tr>\n",
       "      <th>std</th>\n",
       "      <td>7.664083e+06</td>\n",
       "      <td>0.000000e+00</td>\n",
       "      <td>4.444335e+07</td>\n",
       "      <td>NaN</td>\n",
       "      <td>1.100505</td>\n",
       "      <td>1.100505</td>\n",
       "      <td>NaN</td>\n",
       "      <td>0.005562</td>\n",
       "      <td>0.003272</td>\n",
       "      <td>1.776388</td>\n",
       "      <td>...</td>\n",
       "      <td>0.674949</td>\n",
       "      <td>0.632456</td>\n",
       "      <td>0.0</td>\n",
       "      <td>0.632456</td>\n",
       "      <td>0.471405</td>\n",
       "      <td>0.699206</td>\n",
       "      <td>NaN</td>\n",
       "      <td>NaN</td>\n",
       "      <td>1.100505</td>\n",
       "      <td>0.9048</td>\n",
       "    </tr>\n",
       "    <tr>\n",
       "      <th>min</th>\n",
       "      <td>8.494080e+05</td>\n",
       "      <td>2.017101e+13</td>\n",
       "      <td>4.434391e+06</td>\n",
       "      <td>NaN</td>\n",
       "      <td>1.000000</td>\n",
       "      <td>1.000000</td>\n",
       "      <td>NaN</td>\n",
       "      <td>42.274980</td>\n",
       "      <td>-71.144647</td>\n",
       "      <td>1.000000</td>\n",
       "      <td>...</td>\n",
       "      <td>8.000000</td>\n",
       "      <td>8.000000</td>\n",
       "      <td>10.0</td>\n",
       "      <td>8.000000</td>\n",
       "      <td>8.000000</td>\n",
       "      <td>8.000000</td>\n",
       "      <td>NaN</td>\n",
       "      <td>NaN</td>\n",
       "      <td>1.000000</td>\n",
       "      <td>0.4400</td>\n",
       "    </tr>\n",
       "    <tr>\n",
       "      <th>25%</th>\n",
       "      <td>6.123628e+06</td>\n",
       "      <td>2.017101e+13</td>\n",
       "      <td>2.070297e+07</td>\n",
       "      <td>NaN</td>\n",
       "      <td>1.000000</td>\n",
       "      <td>1.000000</td>\n",
       "      <td>NaN</td>\n",
       "      <td>42.277577</td>\n",
       "      <td>-71.139121</td>\n",
       "      <td>2.000000</td>\n",
       "      <td>...</td>\n",
       "      <td>10.000000</td>\n",
       "      <td>10.000000</td>\n",
       "      <td>10.0</td>\n",
       "      <td>10.000000</td>\n",
       "      <td>9.000000</td>\n",
       "      <td>9.000000</td>\n",
       "      <td>NaN</td>\n",
       "      <td>NaN</td>\n",
       "      <td>1.000000</td>\n",
       "      <td>0.6625</td>\n",
       "    </tr>\n",
       "    <tr>\n",
       "      <th>50%</th>\n",
       "      <td>1.546215e+07</td>\n",
       "      <td>2.017101e+13</td>\n",
       "      <td>6.526445e+07</td>\n",
       "      <td>NaN</td>\n",
       "      <td>1.500000</td>\n",
       "      <td>1.500000</td>\n",
       "      <td>NaN</td>\n",
       "      <td>42.281734</td>\n",
       "      <td>-71.136590</td>\n",
       "      <td>2.000000</td>\n",
       "      <td>...</td>\n",
       "      <td>10.000000</td>\n",
       "      <td>10.000000</td>\n",
       "      <td>10.0</td>\n",
       "      <td>10.000000</td>\n",
       "      <td>9.000000</td>\n",
       "      <td>9.500000</td>\n",
       "      <td>NaN</td>\n",
       "      <td>NaN</td>\n",
       "      <td>1.500000</td>\n",
       "      <td>0.8200</td>\n",
       "    </tr>\n",
       "    <tr>\n",
       "      <th>75%</th>\n",
       "      <td>1.800684e+07</td>\n",
       "      <td>2.017101e+13</td>\n",
       "      <td>9.186807e+07</td>\n",
       "      <td>NaN</td>\n",
       "      <td>2.750000</td>\n",
       "      <td>2.750000</td>\n",
       "      <td>NaN</td>\n",
       "      <td>42.287099</td>\n",
       "      <td>-71.135279</td>\n",
       "      <td>2.750000</td>\n",
       "      <td>...</td>\n",
       "      <td>10.000000</td>\n",
       "      <td>10.000000</td>\n",
       "      <td>10.0</td>\n",
       "      <td>10.000000</td>\n",
       "      <td>9.000000</td>\n",
       "      <td>10.000000</td>\n",
       "      <td>NaN</td>\n",
       "      <td>NaN</td>\n",
       "      <td>2.750000</td>\n",
       "      <td>1.8075</td>\n",
       "    </tr>\n",
       "    <tr>\n",
       "      <th>max</th>\n",
       "      <td>2.087214e+07</td>\n",
       "      <td>2.017101e+13</td>\n",
       "      <td>1.296400e+08</td>\n",
       "      <td>NaN</td>\n",
       "      <td>4.000000</td>\n",
       "      <td>4.000000</td>\n",
       "      <td>NaN</td>\n",
       "      <td>42.290783</td>\n",
       "      <td>-71.133372</td>\n",
       "      <td>7.000000</td>\n",
       "      <td>...</td>\n",
       "      <td>10.000000</td>\n",
       "      <td>10.000000</td>\n",
       "      <td>10.0</td>\n",
       "      <td>10.000000</td>\n",
       "      <td>10.000000</td>\n",
       "      <td>10.000000</td>\n",
       "      <td>NaN</td>\n",
       "      <td>NaN</td>\n",
       "      <td>4.000000</td>\n",
       "      <td>3.2300</td>\n",
       "    </tr>\n",
       "  </tbody>\n",
       "</table>\n",
       "<p>8 rows × 33 columns</p>\n",
       "</div>"
      ],
      "text/plain": [
       "                 id     scrape_id       host_id  host_acceptance_rate  \\\n",
       "count  1.000000e+01  1.000000e+01  1.000000e+01                   0.0   \n",
       "mean   1.265288e+07  2.017101e+13  6.220443e+07                   NaN   \n",
       "std    7.664083e+06  0.000000e+00  4.444335e+07                   NaN   \n",
       "min    8.494080e+05  2.017101e+13  4.434391e+06                   NaN   \n",
       "25%    6.123628e+06  2.017101e+13  2.070297e+07                   NaN   \n",
       "50%    1.546215e+07  2.017101e+13  6.526445e+07                   NaN   \n",
       "75%    1.800684e+07  2.017101e+13  9.186807e+07                   NaN   \n",
       "max    2.087214e+07  2.017101e+13  1.296400e+08                   NaN   \n",
       "\n",
       "       host_listings_count  host_total_listings_count  \\\n",
       "count            10.000000                  10.000000   \n",
       "mean              1.900000                   1.900000   \n",
       "std               1.100505                   1.100505   \n",
       "min               1.000000                   1.000000   \n",
       "25%               1.000000                   1.000000   \n",
       "50%               1.500000                   1.500000   \n",
       "75%               2.750000                   2.750000   \n",
       "max               4.000000                   4.000000   \n",
       "\n",
       "       neighbourhood_group_cleansed   latitude  longitude  accommodates  \\\n",
       "count                           0.0  10.000000  10.000000     10.000000   \n",
       "mean                            NaN  42.282457 -71.137379      2.600000   \n",
       "std                             NaN   0.005562   0.003272      1.776388   \n",
       "min                             NaN  42.274980 -71.144647      1.000000   \n",
       "25%                             NaN  42.277577 -71.139121      2.000000   \n",
       "50%                             NaN  42.281734 -71.136590      2.000000   \n",
       "75%                             NaN  42.287099 -71.135279      2.750000   \n",
       "max                             NaN  42.290783 -71.133372      7.000000   \n",
       "\n",
       "             ...          review_scores_accuracy  review_scores_cleanliness  \\\n",
       "count        ...                       10.000000                  10.000000   \n",
       "mean         ...                        9.700000                   9.800000   \n",
       "std          ...                        0.674949                   0.632456   \n",
       "min          ...                        8.000000                   8.000000   \n",
       "25%          ...                       10.000000                  10.000000   \n",
       "50%          ...                       10.000000                  10.000000   \n",
       "75%          ...                       10.000000                  10.000000   \n",
       "max          ...                       10.000000                  10.000000   \n",
       "\n",
       "       review_scores_checkin  review_scores_communication  \\\n",
       "count                   10.0                    10.000000   \n",
       "mean                    10.0                     9.800000   \n",
       "std                      0.0                     0.632456   \n",
       "min                     10.0                     8.000000   \n",
       "25%                     10.0                    10.000000   \n",
       "50%                     10.0                    10.000000   \n",
       "75%                     10.0                    10.000000   \n",
       "max                     10.0                    10.000000   \n",
       "\n",
       "       review_scores_location  review_scores_value  license  \\\n",
       "count               10.000000            10.000000      0.0   \n",
       "mean                 9.000000             9.400000      NaN   \n",
       "std                  0.471405             0.699206      NaN   \n",
       "min                  8.000000             8.000000      NaN   \n",
       "25%                  9.000000             9.000000      NaN   \n",
       "50%                  9.000000             9.500000      NaN   \n",
       "75%                  9.000000            10.000000      NaN   \n",
       "max                 10.000000            10.000000      NaN   \n",
       "\n",
       "       jurisdiction_names  calculated_host_listings_count  reviews_per_month  \n",
       "count                 0.0                       10.000000            10.0000  \n",
       "mean                  NaN                        1.900000             1.2380  \n",
       "std                   NaN                        1.100505             0.9048  \n",
       "min                   NaN                        1.000000             0.4400  \n",
       "25%                   NaN                        1.000000             0.6625  \n",
       "50%                   NaN                        1.500000             0.8200  \n",
       "75%                   NaN                        2.750000             1.8075  \n",
       "max                   NaN                        4.000000             3.2300  \n",
       "\n",
       "[8 rows x 33 columns]"
      ]
     },
     "execution_count": 27,
     "metadata": {},
     "output_type": "execute_result"
    }
   ],
   "source": [
    "# naive description\n",
    "listings[0:10].describe()\n",
    "\n",
    "# can detail which percentiles to include:\n",
    "# listings[0:10].describe(percentiles=[.05, .25, .75, .95])\n",
    "\n",
    "# listings.host_acceptance_rate.unique()"
   ]
  },
  {
   "cell_type": "code",
   "execution_count": 7,
   "metadata": {
    "collapsed": false
   },
   "outputs": [],
   "source": [
    "# Rename columns\n",
    "listings3 = listings.rename(columns={'license':'LICENSE','id':'ID'})"
   ]
  },
  {
   "cell_type": "markdown",
   "metadata": {},
   "source": [
    "# Replace value in a column with formula"
   ]
  },
  {
   "cell_type": "code",
   "execution_count": null,
   "metadata": {
    "collapsed": true
   },
   "outputs": [],
   "source": [
    "top_10_brands_en = {'华为':'Huawei', '小米':'Xiaomi', '三星':'Samsung', 'vivo':'vivo', 'OPPO':'OPPO', \n",
    "                    '魅族':'Meizu', '酷派':'Coolpad', '乐视':'LeEco', '联想':'Lenovo', 'HTC':'HTC'}\n",
    "\n",
    "df['phone_brand_en'] = df['phone_brand'].apply(lambda phone_brand: top_10_brands_en[phone_brand] if (phone_brand in top_10_brands_en) else 'Other')"
   ]
  },
  {
   "cell_type": "code",
   "execution_count": null,
   "metadata": {
    "collapsed": true
   },
   "outputs": [],
   "source": [
    "def get_age_segment(age):\n",
    "    if age <= 22:\n",
    "        return '22-'\n",
    "    elif age <= 26:\n",
    "        return '23-26'\n",
    "    elif age <= 28:\n",
    "        return '27-28'\n",
    "    elif age <= 32:\n",
    "        return '29-32'\n",
    "    elif age <= 38:\n",
    "        return '33-38'\n",
    "    else:\n",
    "        return '39+'\n",
    "\n",
    "df['age_segment'] = df['age'].apply(lambda age: get_age_segment(age))"
   ]
  },
  {
   "cell_type": "markdown",
   "metadata": {},
   "source": [
    "# Apply, applymap, and map\n",
    "* Apply: each series\n",
    "* Map: each row\n",
    "* Applymap: each element"
   ]
  },
  {
   "cell_type": "code",
   "execution_count": 143,
   "metadata": {
    "collapsed": false
   },
   "outputs": [
    {
     "data": {
      "text/html": [
       "<div>\n",
       "<style>\n",
       "    .dataframe thead tr:only-child th {\n",
       "        text-align: right;\n",
       "    }\n",
       "\n",
       "    .dataframe thead th {\n",
       "        text-align: left;\n",
       "    }\n",
       "\n",
       "    .dataframe tbody tr th {\n",
       "        vertical-align: top;\n",
       "    }\n",
       "</style>\n",
       "<table border=\"1\" class=\"dataframe\">\n",
       "  <thead>\n",
       "    <tr style=\"text-align: right;\">\n",
       "      <th></th>\n",
       "      <th>b</th>\n",
       "      <th>d</th>\n",
       "      <th>e</th>\n",
       "    </tr>\n",
       "  </thead>\n",
       "  <tbody>\n",
       "    <tr>\n",
       "      <th>Utah</th>\n",
       "      <td>-1.218925</td>\n",
       "      <td>-1.669478</td>\n",
       "      <td>-0.051027</td>\n",
       "    </tr>\n",
       "    <tr>\n",
       "      <th>Ohio</th>\n",
       "      <td>-0.128275</td>\n",
       "      <td>-0.101781</td>\n",
       "      <td>1.096763</td>\n",
       "    </tr>\n",
       "    <tr>\n",
       "      <th>Texas</th>\n",
       "      <td>-0.823568</td>\n",
       "      <td>-1.738171</td>\n",
       "      <td>0.160202</td>\n",
       "    </tr>\n",
       "    <tr>\n",
       "      <th>Oregon</th>\n",
       "      <td>-0.771373</td>\n",
       "      <td>1.342753</td>\n",
       "      <td>1.058894</td>\n",
       "    </tr>\n",
       "  </tbody>\n",
       "</table>\n",
       "</div>"
      ],
      "text/plain": [
       "               b         d         e\n",
       "Utah   -1.218925 -1.669478 -0.051027\n",
       "Ohio   -0.128275 -0.101781  1.096763\n",
       "Texas  -0.823568 -1.738171  0.160202\n",
       "Oregon -0.771373  1.342753  1.058894"
      ]
     },
     "execution_count": 143,
     "metadata": {},
     "output_type": "execute_result"
    }
   ],
   "source": [
    "frame = pd.DataFrame(np.random.randn(4, 3), columns=list('bde'), index=['Utah', 'Ohio', 'Texas', 'Oregon'])\n",
    "frame"
   ]
  },
  {
   "cell_type": "code",
   "execution_count": 144,
   "metadata": {
    "collapsed": false
   },
   "outputs": [
    {
     "data": {
      "text/plain": [
       "b    1.090650\n",
       "d    3.080924\n",
       "e    1.147790\n",
       "dtype: float64"
      ]
     },
     "execution_count": 144,
     "metadata": {},
     "output_type": "execute_result"
    }
   ],
   "source": [
    "# Apply: works on each series\n",
    "f = lambda x: x.max() - x.min()\n",
    "frame.apply(f)"
   ]
  },
  {
   "cell_type": "code",
   "execution_count": 146,
   "metadata": {
    "collapsed": false
   },
   "outputs": [
    {
     "data": {
      "text/plain": [
       "Utah      -0.05\n",
       "Ohio       1.10\n",
       "Texas      0.16\n",
       "Oregon     1.06\n",
       "Name: e, dtype: object"
      ]
     },
     "execution_count": 146,
     "metadata": {},
     "output_type": "execute_result"
    }
   ],
   "source": [
    "# Map: works on each row\n",
    "frame['e'].map(format)"
   ]
  },
  {
   "cell_type": "code",
   "execution_count": 145,
   "metadata": {
    "collapsed": false
   },
   "outputs": [
    {
     "data": {
      "text/html": [
       "<div>\n",
       "<style>\n",
       "    .dataframe thead tr:only-child th {\n",
       "        text-align: right;\n",
       "    }\n",
       "\n",
       "    .dataframe thead th {\n",
       "        text-align: left;\n",
       "    }\n",
       "\n",
       "    .dataframe tbody tr th {\n",
       "        vertical-align: top;\n",
       "    }\n",
       "</style>\n",
       "<table border=\"1\" class=\"dataframe\">\n",
       "  <thead>\n",
       "    <tr style=\"text-align: right;\">\n",
       "      <th></th>\n",
       "      <th>b</th>\n",
       "      <th>d</th>\n",
       "      <th>e</th>\n",
       "    </tr>\n",
       "  </thead>\n",
       "  <tbody>\n",
       "    <tr>\n",
       "      <th>Utah</th>\n",
       "      <td>-1.22</td>\n",
       "      <td>-1.67</td>\n",
       "      <td>-0.05</td>\n",
       "    </tr>\n",
       "    <tr>\n",
       "      <th>Ohio</th>\n",
       "      <td>-0.13</td>\n",
       "      <td>-0.10</td>\n",
       "      <td>1.10</td>\n",
       "    </tr>\n",
       "    <tr>\n",
       "      <th>Texas</th>\n",
       "      <td>-0.82</td>\n",
       "      <td>-1.74</td>\n",
       "      <td>0.16</td>\n",
       "    </tr>\n",
       "    <tr>\n",
       "      <th>Oregon</th>\n",
       "      <td>-0.77</td>\n",
       "      <td>1.34</td>\n",
       "      <td>1.06</td>\n",
       "    </tr>\n",
       "  </tbody>\n",
       "</table>\n",
       "</div>"
      ],
      "text/plain": [
       "            b      d      e\n",
       "Utah    -1.22  -1.67  -0.05\n",
       "Ohio    -0.13  -0.10   1.10\n",
       "Texas   -0.82  -1.74   0.16\n",
       "Oregon  -0.77   1.34   1.06"
      ]
     },
     "execution_count": 145,
     "metadata": {},
     "output_type": "execute_result"
    }
   ],
   "source": [
    "# Applymap: element-wise application\n",
    "format = lambda x: '%.2f' % x\n",
    "frame.applymap(format)"
   ]
  },
  {
   "cell_type": "markdown",
   "metadata": {},
   "source": [
    "# Sumifs, countifs\n",
    "\n",
    "```\n",
    "DATE     | EMPLOYEE     | PROJECT | HOURS\n",
    "02/01/14 | Smith, John  | A001    | 4.0\n",
    "02/01/14 | Smith, John  | B002    | 4.0\n",
    "02/01/14 | Doe, Jane    | A001    | 3.0\n",
    "02/01/14 | Doe, Jane    | C003    | 5.0\n",
    "02/02/14 | Smith, John  | B002    | 2.0\n",
    "02/02/14 | Smith, John  | C003    | 6.0\n",
    "02/02/14 | Doe, Jane    | A001    | 8.0\n",
    "```"
   ]
  },
  {
   "cell_type": "code",
   "execution_count": null,
   "metadata": {
    "collapsed": true
   },
   "outputs": [],
   "source": [
    "# To get new table with sum by all projects\n",
    "df.groupby(\"PROJECT\")[\"HOURS\"].sum()\n",
    "\n",
    "# To get total for just one project\n",
    "df.query(\"PROJECT == 'A001'\")[\"HOURS\"].sum()\n",
    "\n",
    "# If you wanted to count, you could just use .count()"
   ]
  },
  {
   "cell_type": "code",
   "execution_count": 96,
   "metadata": {
    "collapsed": false
   },
   "outputs": [
    {
     "name": "stdout",
     "output_type": "stream",
     "text": [
      "Object `pandas` not found.\n"
     ]
    }
   ],
   "source": [
    "# query examples; these two are equivalent\n",
    "df.query('a > b')\n",
    "df[df.a > df.b]"
   ]
  },
  {
   "cell_type": "markdown",
   "metadata": {},
   "source": [
    "```\n",
    "df\n",
    "     A    B    C    D     E\n",
    "0  mitfx  0  200  300  0.25\n",
    "1     gs  1  150  320  0.35\n",
    "2    duk  1    5    2  0.45\n",
    "3    bmo  1  145   65  0.65 \n",
    "```"
   ]
  },
  {
   "cell_type": "code",
   "execution_count": 98,
   "metadata": {
    "collapsed": false
   },
   "outputs": [
    {
     "data": {
      "text/html": [
       "<div>\n",
       "<style>\n",
       "    .dataframe thead tr:only-child th {\n",
       "        text-align: right;\n",
       "    }\n",
       "\n",
       "    .dataframe thead th {\n",
       "        text-align: left;\n",
       "    }\n",
       "\n",
       "    .dataframe tbody tr th {\n",
       "        vertical-align: top;\n",
       "    }\n",
       "</style>\n",
       "<table border=\"1\" class=\"dataframe\">\n",
       "  <thead>\n",
       "    <tr style=\"text-align: right;\">\n",
       "      <th></th>\n",
       "      <th>A</th>\n",
       "      <th>B</th>\n",
       "      <th>C</th>\n",
       "      <th>D</th>\n",
       "    </tr>\n",
       "  </thead>\n",
       "  <tbody>\n",
       "    <tr>\n",
       "      <th>0</th>\n",
       "      <td>foo</td>\n",
       "      <td>one</td>\n",
       "      <td>small</td>\n",
       "      <td>1</td>\n",
       "    </tr>\n",
       "    <tr>\n",
       "      <th>1</th>\n",
       "      <td>foo</td>\n",
       "      <td>one</td>\n",
       "      <td>large</td>\n",
       "      <td>2</td>\n",
       "    </tr>\n",
       "    <tr>\n",
       "      <th>2</th>\n",
       "      <td>foo</td>\n",
       "      <td>one</td>\n",
       "      <td>large</td>\n",
       "      <td>2</td>\n",
       "    </tr>\n",
       "    <tr>\n",
       "      <th>3</th>\n",
       "      <td>foo</td>\n",
       "      <td>two</td>\n",
       "      <td>small</td>\n",
       "      <td>3</td>\n",
       "    </tr>\n",
       "    <tr>\n",
       "      <th>4</th>\n",
       "      <td>foo</td>\n",
       "      <td>two</td>\n",
       "      <td>small</td>\n",
       "      <td>3</td>\n",
       "    </tr>\n",
       "    <tr>\n",
       "      <th>5</th>\n",
       "      <td>bar</td>\n",
       "      <td>one</td>\n",
       "      <td>large</td>\n",
       "      <td>4</td>\n",
       "    </tr>\n",
       "    <tr>\n",
       "      <th>6</th>\n",
       "      <td>bar</td>\n",
       "      <td>one</td>\n",
       "      <td>small</td>\n",
       "      <td>5</td>\n",
       "    </tr>\n",
       "    <tr>\n",
       "      <th>7</th>\n",
       "      <td>bar</td>\n",
       "      <td>two</td>\n",
       "      <td>small</td>\n",
       "      <td>6</td>\n",
       "    </tr>\n",
       "    <tr>\n",
       "      <th>8</th>\n",
       "      <td>bar</td>\n",
       "      <td>two</td>\n",
       "      <td>large</td>\n",
       "      <td>7</td>\n",
       "    </tr>\n",
       "  </tbody>\n",
       "</table>\n",
       "</div>"
      ],
      "text/plain": [
       "     A    B      C  D\n",
       "0  foo  one  small  1\n",
       "1  foo  one  large  2\n",
       "2  foo  one  large  2\n",
       "3  foo  two  small  3\n",
       "4  foo  two  small  3\n",
       "5  bar  one  large  4\n",
       "6  bar  one  small  5\n",
       "7  bar  two  small  6\n",
       "8  bar  two  large  7"
      ]
     },
     "execution_count": 98,
     "metadata": {},
     "output_type": "execute_result"
    }
   ],
   "source": [
    "# Pivot tables\n",
    "\n",
    "df = pd.DataFrame({\"A\": [\"foo\", \"foo\", \"foo\", \"foo\", \"foo\",\n",
    "                         \"bar\", \"bar\", \"bar\", \"bar\"],\n",
    "                   \"B\": [\"one\", \"one\", \"one\", \"two\", \"two\",\n",
    "                         \"one\", \"one\", \"two\", \"two\"],\n",
    "                   \"C\": [\"small\", \"large\", \"large\", \"small\",\n",
    "                         \"small\", \"large\", \"small\", \"small\",\n",
    "                         \"large\"],\n",
    "                   \"D\": [1, 2, 2, 3, 3, 4, 5, 6, 7]})\n",
    "df"
   ]
  },
  {
   "cell_type": "code",
   "execution_count": 2,
   "metadata": {
    "collapsed": false,
    "scrolled": true
   },
   "outputs": [
    {
     "ename": "NameError",
     "evalue": "name 'df' is not defined",
     "output_type": "error",
     "traceback": [
      "\u001b[0;31m---------------------------------------------------------------------------\u001b[0m",
      "\u001b[0;31mNameError\u001b[0m                                 Traceback (most recent call last)",
      "\u001b[0;32m<ipython-input-2-6ce53070c1a9>\u001b[0m in \u001b[0;36m<module>\u001b[0;34m()\u001b[0m\n\u001b[0;32m----> 1\u001b[0;31m \u001b[0mdf\u001b[0m\u001b[0;34m.\u001b[0m\u001b[0mgroupby\u001b[0m\u001b[0;34m(\u001b[0m\u001b[0;34m[\u001b[0m\u001b[0;34m'A'\u001b[0m\u001b[0;34m]\u001b[0m\u001b[0;34m)\u001b[0m\u001b[0;34m.\u001b[0m\u001b[0mcount\u001b[0m\u001b[0;34m(\u001b[0m\u001b[0;34m)\u001b[0m\u001b[0;34m\u001b[0m\u001b[0m\n\u001b[0m",
      "\u001b[0;31mNameError\u001b[0m: name 'df' is not defined"
     ]
    }
   ],
   "source": [
    "df.groupby(['A'])['C'].count()"
   ]
  },
  {
   "cell_type": "markdown",
   "metadata": {},
   "source": [
    "# Subsets"
   ]
  },
  {
   "cell_type": "code",
   "execution_count": null,
   "metadata": {
    "collapsed": true
   },
   "outputs": [],
   "source": [
    "df_subset = df[(df.B == 1) & (df.D > 5)]\n",
    "df_subset.apply(lambda x: x.C * x.E, axis=1).sum()\n",
    "# or\n",
    "print sum(df_subset.C * df_subset.E)"
   ]
  },
  {
   "cell_type": "code",
   "execution_count": 97,
   "metadata": {
    "collapsed": false
   },
   "outputs": [
    {
     "data": {
      "text/html": [
       "<div>\n",
       "<style>\n",
       "    .dataframe thead tr:only-child th {\n",
       "        text-align: right;\n",
       "    }\n",
       "\n",
       "    .dataframe thead th {\n",
       "        text-align: left;\n",
       "    }\n",
       "\n",
       "    .dataframe tbody tr th {\n",
       "        vertical-align: top;\n",
       "    }\n",
       "</style>\n",
       "<table border=\"1\" class=\"dataframe\">\n",
       "  <thead>\n",
       "    <tr style=\"text-align: right;\">\n",
       "      <th></th>\n",
       "      <th>age</th>\n",
       "      <th>favorite_color</th>\n",
       "      <th>grade</th>\n",
       "    </tr>\n",
       "    <tr>\n",
       "      <th>name</th>\n",
       "      <th></th>\n",
       "      <th></th>\n",
       "      <th></th>\n",
       "    </tr>\n",
       "  </thead>\n",
       "  <tbody>\n",
       "    <tr>\n",
       "      <th>Willard Morris</th>\n",
       "      <td>20</td>\n",
       "      <td>blue</td>\n",
       "      <td>88</td>\n",
       "    </tr>\n",
       "    <tr>\n",
       "      <th>Al Jennings</th>\n",
       "      <td>19</td>\n",
       "      <td>red</td>\n",
       "      <td>92</td>\n",
       "    </tr>\n",
       "    <tr>\n",
       "      <th>Omar Mullins</th>\n",
       "      <td>22</td>\n",
       "      <td>yellow</td>\n",
       "      <td>95</td>\n",
       "    </tr>\n",
       "    <tr>\n",
       "      <th>Spencer McDaniel</th>\n",
       "      <td>21</td>\n",
       "      <td>green</td>\n",
       "      <td>70</td>\n",
       "    </tr>\n",
       "  </tbody>\n",
       "</table>\n",
       "</div>"
      ],
      "text/plain": [
       "                  age favorite_color  grade\n",
       "name                                       \n",
       "Willard Morris     20           blue     88\n",
       "Al Jennings        19            red     92\n",
       "Omar Mullins       22         yellow     95\n",
       "Spencer McDaniel   21          green     70"
      ]
     },
     "execution_count": 97,
     "metadata": {},
     "output_type": "execute_result"
    }
   ],
   "source": [
    "raw_data = {'name': ['Willard Morris', 'Al Jennings', 'Omar Mullins', 'Spencer McDaniel'],\n",
    "        'age': [20, 19, 22, 21],\n",
    "        'favorite_color': ['blue', 'red', 'yellow', \"green\"],\n",
    "        'grade': [88, 92, 95, 70]}\n",
    "\n",
    "# df = pd.DataFrame(raw_data, index = ['Willard Morris', 'Al Jennings', 'Omar Mullins', 'Spencer McDaniel'])\n",
    "df = pd.DataFrame(raw_data)\n",
    "df = df.set_index('name')\n",
    "df"
   ]
  },
  {
   "cell_type": "markdown",
   "metadata": {},
   "source": [
    "Order of operations for working with new data-set:\n",
    "1. Import data\n",
    "2. Quick check data"
   ]
  },
  {
   "cell_type": "code",
   "execution_count": 36,
   "metadata": {
    "collapsed": false
   },
   "outputs": [
    {
     "name": "stdout",
     "output_type": "stream",
     "text": [
      "\u001b[31mgenes.csv\u001b[m\u001b[m*                    \u001b[31mgtex_gene_expression.csv\u001b[m\u001b[m*     source.txt                    \u001b[31mtoxicogenomics_chemicals.csv\u001b[m\u001b[m*\r\n"
     ]
    }
   ],
   "source": [
    "ls data-genomics/"
   ]
  },
  {
   "cell_type": "markdown",
   "metadata": {},
   "source": [
    "Another convenient operation is map on a series, which performs the operation specified on every element of a column. It's as if you wrote a for-loop to access every item of the GENDER column, and use that item to access the gender dictionary, and replace the value."
   ]
  },
  {
   "cell_type": "code",
   "execution_count": 39,
   "metadata": {
    "collapsed": false
   },
   "outputs": [
    {
     "data": {
      "text/plain": [
       "'fillmein'"
      ]
     },
     "execution_count": 39,
     "metadata": {},
     "output_type": "execute_result"
    }
   ],
   "source": [
    "gender = {1: 'fillmein',\n",
    "          2: 'fillmein2'}\n",
    "subject_phenotypes.GENDER.map(gender)"
   ]
  },
  {
   "cell_type": "code",
   "execution_count": null,
   "metadata": {
    "collapsed": true
   },
   "outputs": [],
   "source": [
    "# Code to create a new column called \"gender\" in `subject_phenotypes` that is the result of using `map` \n",
    "# with the `gender` dictionary on the \"GENDER\" column of `subject_phenotypes`."
   ]
  },
  {
   "cell_type": "code",
   "execution_count": 42,
   "metadata": {
    "collapsed": false
   },
   "outputs": [
    {
     "data": {
      "text/plain": [
       "['you', 'have', 'as', 'many', 'hours', 'in', 'a', 'day', 'as', 'beyonce']"
      ]
     },
     "execution_count": 42,
     "metadata": {},
     "output_type": "execute_result"
    }
   ],
   "source": [
    "s = 'you have as many hours in a day as beyonce'\n",
    "s.split()\n",
    "# s.split('d')"
   ]
  },
  {
   "cell_type": "markdown",
   "metadata": {},
   "source": [
    "We can use what we just learned about manipulating strings, on columns of dataframe using `lambda`, which allows us to create small functions. For example, if we wanted to take column `'SUBJID'` from the dataframe `subject_phenotypes`, split every item on the dash character `'-'`, and get the first item, we would do this:"
   ]
  },
  {
   "cell_type": "code",
   "execution_count": null,
   "metadata": {
    "collapsed": true
   },
   "outputs": [],
   "source": [
    "subject_phenotypes['SUBJID'].map(lambda x: x.split('-')[0])"
   ]
  },
  {
   "cell_type": "markdown",
   "metadata": {},
   "source": [
    "The above code produces the error,\n",
    "\n",
    "    <ipython-input-157-6714d86271d7> in <lambda>(x)\n",
    "    ----> 1 sample_attributes['Tissue Type, more specific detail of tissue type'].map(lambda x: x.split('-')[0])\n",
    "\n",
    "    AttributeError: 'float' object has no attribute 'split'\n",
    "    \n",
    "Which happens because instead of a nice string, there is a `float` there, and `float`s don't know how to be `split`. Why is that? Well, NAs are of type `float`, so this indicates that there's an NA there.\n",
    "\n",
    "To deal with this, we can add an `if` statement to our `lambda` to make it deal with these situations. We will use the function `isinstance` to check if `x` is a string (the special word for a string in Python is `str`), and replace it with an NA using the `numpy` library (which we imported as `np` for shorthand) `np.nan`."
   ]
  },
  {
   "cell_type": "code",
   "execution_count": 43,
   "metadata": {
    "collapsed": false
   },
   "outputs": [
    {
     "ename": "NameError",
     "evalue": "name 'sample_attributes' is not defined",
     "output_type": "error",
     "traceback": [
      "\u001b[0;31m---------------------------------------------------------------------------\u001b[0m",
      "\u001b[0;31mNameError\u001b[0m                                 Traceback (most recent call last)",
      "\u001b[0;32m<ipython-input-43-09cec6be2274>\u001b[0m in \u001b[0;36m<module>\u001b[0;34m()\u001b[0m\n\u001b[0;32m----> 1\u001b[0;31m \u001b[0msample_attributes\u001b[0m\u001b[0;34m[\u001b[0m\u001b[0;34m'Tissue Type, more specific detail of tissue type'\u001b[0m\u001b[0;34m]\u001b[0m\u001b[0;34m.\u001b[0m\u001b[0mmap\u001b[0m\u001b[0;34m(\u001b[0m\u001b[0;32mlambda\u001b[0m \u001b[0mx\u001b[0m\u001b[0;34m:\u001b[0m \u001b[0mx\u001b[0m\u001b[0;34m.\u001b[0m\u001b[0msplit\u001b[0m\u001b[0;34m(\u001b[0m\u001b[0;34m'-'\u001b[0m\u001b[0;34m)\u001b[0m\u001b[0;34m[\u001b[0m\u001b[0;36m0\u001b[0m\u001b[0;34m]\u001b[0m \u001b[0;32mif\u001b[0m \u001b[0misinstance\u001b[0m\u001b[0;34m(\u001b[0m\u001b[0mx\u001b[0m\u001b[0;34m,\u001b[0m \u001b[0mstr\u001b[0m\u001b[0;34m)\u001b[0m \u001b[0;32melse\u001b[0m \u001b[0mnp\u001b[0m\u001b[0;34m.\u001b[0m\u001b[0mnan\u001b[0m\u001b[0;34m)\u001b[0m\u001b[0;34m\u001b[0m\u001b[0m\n\u001b[0m",
      "\u001b[0;31mNameError\u001b[0m: name 'sample_attributes' is not defined"
     ]
    }
   ],
   "source": [
    "sample_attributes['Tissue Type, more specific detail of tissue type'].map(lambda x: x.split('-')[0] if isinstance(x, str) else np.nan)"
   ]
  },
  {
   "cell_type": "markdown",
   "metadata": {},
   "source": [
    "# Merge\n",
    "\n",
    "We want to merge these two dataframes on their common column, which is \"vegetable\" in dataframe1 and crop in dataframe2. We can do this using merge, and specifying what we want to merge the left and right dataframes on."
   ]
  },
  {
   "cell_type": "code",
   "execution_count": 9,
   "metadata": {
    "collapsed": true
   },
   "outputs": [],
   "source": [
    "dataframe1 = pd.DataFrame([['cucumber', 'watery'], ['broccoli', 'crunchy'], ['kale', 'chewy'], \n",
    "                           ['mango', 'sweet'] ], columns=['vegetable', 'description'])\n",
    "\n",
    "dataframe2 = pd.DataFrame([['broccoli', 'harvested', 8], ['broccoli', 'planted', 5],\n",
    "                           ['kale', 'planted', 6], ['kale', 'harvested', 9],\n",
    "                           ['cucumber', 'harvested', 7], ['cucumber', 'planted', 4],\n",
    "                           ['strawberry', 'planted', 10], ['strawberry', 'harvested', 2]], \n",
    "                          columns=['crop', 'action', 'number'])"
   ]
  },
  {
   "cell_type": "code",
   "execution_count": 10,
   "metadata": {
    "collapsed": false
   },
   "outputs": [
    {
     "data": {
      "text/html": [
       "<div>\n",
       "<style>\n",
       "    .dataframe thead tr:only-child th {\n",
       "        text-align: right;\n",
       "    }\n",
       "\n",
       "    .dataframe thead th {\n",
       "        text-align: left;\n",
       "    }\n",
       "\n",
       "    .dataframe tbody tr th {\n",
       "        vertical-align: top;\n",
       "    }\n",
       "</style>\n",
       "<table border=\"1\" class=\"dataframe\">\n",
       "  <thead>\n",
       "    <tr style=\"text-align: right;\">\n",
       "      <th></th>\n",
       "      <th>vegetable</th>\n",
       "      <th>description</th>\n",
       "    </tr>\n",
       "  </thead>\n",
       "  <tbody>\n",
       "    <tr>\n",
       "      <th>0</th>\n",
       "      <td>cucumber</td>\n",
       "      <td>watery</td>\n",
       "    </tr>\n",
       "    <tr>\n",
       "      <th>1</th>\n",
       "      <td>broccoli</td>\n",
       "      <td>crunchy</td>\n",
       "    </tr>\n",
       "    <tr>\n",
       "      <th>2</th>\n",
       "      <td>kale</td>\n",
       "      <td>chewy</td>\n",
       "    </tr>\n",
       "    <tr>\n",
       "      <th>3</th>\n",
       "      <td>mango</td>\n",
       "      <td>sweet</td>\n",
       "    </tr>\n",
       "  </tbody>\n",
       "</table>\n",
       "</div>"
      ],
      "text/plain": [
       "  vegetable description\n",
       "0  cucumber      watery\n",
       "1  broccoli     crunchy\n",
       "2      kale       chewy\n",
       "3     mango       sweet"
      ]
     },
     "execution_count": 10,
     "metadata": {},
     "output_type": "execute_result"
    }
   ],
   "source": [
    "dataframe1"
   ]
  },
  {
   "cell_type": "code",
   "execution_count": 11,
   "metadata": {
    "collapsed": false
   },
   "outputs": [
    {
     "data": {
      "text/html": [
       "<div>\n",
       "<style>\n",
       "    .dataframe thead tr:only-child th {\n",
       "        text-align: right;\n",
       "    }\n",
       "\n",
       "    .dataframe thead th {\n",
       "        text-align: left;\n",
       "    }\n",
       "\n",
       "    .dataframe tbody tr th {\n",
       "        vertical-align: top;\n",
       "    }\n",
       "</style>\n",
       "<table border=\"1\" class=\"dataframe\">\n",
       "  <thead>\n",
       "    <tr style=\"text-align: right;\">\n",
       "      <th></th>\n",
       "      <th>crop</th>\n",
       "      <th>action</th>\n",
       "      <th>number</th>\n",
       "    </tr>\n",
       "  </thead>\n",
       "  <tbody>\n",
       "    <tr>\n",
       "      <th>0</th>\n",
       "      <td>broccoli</td>\n",
       "      <td>harvested</td>\n",
       "      <td>8</td>\n",
       "    </tr>\n",
       "    <tr>\n",
       "      <th>1</th>\n",
       "      <td>broccoli</td>\n",
       "      <td>planted</td>\n",
       "      <td>5</td>\n",
       "    </tr>\n",
       "    <tr>\n",
       "      <th>2</th>\n",
       "      <td>kale</td>\n",
       "      <td>planted</td>\n",
       "      <td>6</td>\n",
       "    </tr>\n",
       "    <tr>\n",
       "      <th>3</th>\n",
       "      <td>kale</td>\n",
       "      <td>harvested</td>\n",
       "      <td>9</td>\n",
       "    </tr>\n",
       "    <tr>\n",
       "      <th>4</th>\n",
       "      <td>cucumber</td>\n",
       "      <td>harvested</td>\n",
       "      <td>7</td>\n",
       "    </tr>\n",
       "    <tr>\n",
       "      <th>5</th>\n",
       "      <td>cucumber</td>\n",
       "      <td>planted</td>\n",
       "      <td>4</td>\n",
       "    </tr>\n",
       "    <tr>\n",
       "      <th>6</th>\n",
       "      <td>strawberry</td>\n",
       "      <td>planted</td>\n",
       "      <td>10</td>\n",
       "    </tr>\n",
       "    <tr>\n",
       "      <th>7</th>\n",
       "      <td>strawberry</td>\n",
       "      <td>harvested</td>\n",
       "      <td>2</td>\n",
       "    </tr>\n",
       "  </tbody>\n",
       "</table>\n",
       "</div>"
      ],
      "text/plain": [
       "         crop     action  number\n",
       "0    broccoli  harvested       8\n",
       "1    broccoli    planted       5\n",
       "2        kale    planted       6\n",
       "3        kale  harvested       9\n",
       "4    cucumber  harvested       7\n",
       "5    cucumber    planted       4\n",
       "6  strawberry    planted      10\n",
       "7  strawberry  harvested       2"
      ]
     },
     "execution_count": 11,
     "metadata": {},
     "output_type": "execute_result"
    }
   ],
   "source": [
    "dataframe2"
   ]
  },
  {
   "cell_type": "markdown",
   "metadata": {},
   "source": [
    "We want to `merge` these two dataframes on their common column, which is `\"vegetable\"` in `dataframe1` and `crop` in `dataframe2`. We can do this using `merge`, and specifying what we want to merge the **left** and **right**  dataframes **on**."
   ]
  },
  {
   "cell_type": "code",
   "execution_count": 15,
   "metadata": {
    "collapsed": false
   },
   "outputs": [
    {
     "data": {
      "text/html": [
       "<div>\n",
       "<style>\n",
       "    .dataframe thead tr:only-child th {\n",
       "        text-align: right;\n",
       "    }\n",
       "\n",
       "    .dataframe thead th {\n",
       "        text-align: left;\n",
       "    }\n",
       "\n",
       "    .dataframe tbody tr th {\n",
       "        vertical-align: top;\n",
       "    }\n",
       "</style>\n",
       "<table border=\"1\" class=\"dataframe\">\n",
       "  <thead>\n",
       "    <tr style=\"text-align: right;\">\n",
       "      <th></th>\n",
       "      <th>vegetable</th>\n",
       "      <th>description</th>\n",
       "      <th>action</th>\n",
       "      <th>number</th>\n",
       "    </tr>\n",
       "  </thead>\n",
       "  <tbody>\n",
       "    <tr>\n",
       "      <th>0</th>\n",
       "      <td>cucumber</td>\n",
       "      <td>watery</td>\n",
       "      <td>harvested</td>\n",
       "      <td>7.0</td>\n",
       "    </tr>\n",
       "    <tr>\n",
       "      <th>1</th>\n",
       "      <td>cucumber</td>\n",
       "      <td>watery</td>\n",
       "      <td>planted</td>\n",
       "      <td>4.0</td>\n",
       "    </tr>\n",
       "    <tr>\n",
       "      <th>2</th>\n",
       "      <td>broccoli</td>\n",
       "      <td>crunchy</td>\n",
       "      <td>harvested</td>\n",
       "      <td>8.0</td>\n",
       "    </tr>\n",
       "    <tr>\n",
       "      <th>3</th>\n",
       "      <td>broccoli</td>\n",
       "      <td>crunchy</td>\n",
       "      <td>planted</td>\n",
       "      <td>5.0</td>\n",
       "    </tr>\n",
       "    <tr>\n",
       "      <th>4</th>\n",
       "      <td>kale</td>\n",
       "      <td>chewy</td>\n",
       "      <td>planted</td>\n",
       "      <td>6.0</td>\n",
       "    </tr>\n",
       "    <tr>\n",
       "      <th>5</th>\n",
       "      <td>kale</td>\n",
       "      <td>chewy</td>\n",
       "      <td>harvested</td>\n",
       "      <td>9.0</td>\n",
       "    </tr>\n",
       "    <tr>\n",
       "      <th>6</th>\n",
       "      <td>mango</td>\n",
       "      <td>sweet</td>\n",
       "      <td>NaN</td>\n",
       "      <td>NaN</td>\n",
       "    </tr>\n",
       "    <tr>\n",
       "      <th>7</th>\n",
       "      <td>strawberry</td>\n",
       "      <td>NaN</td>\n",
       "      <td>planted</td>\n",
       "      <td>10.0</td>\n",
       "    </tr>\n",
       "    <tr>\n",
       "      <th>8</th>\n",
       "      <td>strawberry</td>\n",
       "      <td>NaN</td>\n",
       "      <td>harvested</td>\n",
       "      <td>2.0</td>\n",
       "    </tr>\n",
       "  </tbody>\n",
       "</table>\n",
       "</div>"
      ],
      "text/plain": [
       "    vegetable description     action  number\n",
       "0    cucumber      watery  harvested     7.0\n",
       "1    cucumber      watery    planted     4.0\n",
       "2    broccoli     crunchy  harvested     8.0\n",
       "3    broccoli     crunchy    planted     5.0\n",
       "4        kale       chewy    planted     6.0\n",
       "5        kale       chewy  harvested     9.0\n",
       "6       mango       sweet        NaN     NaN\n",
       "7  strawberry         NaN    planted    10.0\n",
       "8  strawberry         NaN  harvested     2.0"
      ]
     },
     "execution_count": 15,
     "metadata": {},
     "output_type": "execute_result"
    }
   ],
   "source": [
    "# pd.merge(dataframe1, dataframe2, how=\"outer\", left_on='vegetable', right_on='crop').drop(['crop'],axis=1)\n",
    "pd.merge(dataframe1, dataframe2.rename(columns={'crop':'vegetable'}), how=\"outer\", on='vegetable')"
   ]
  }
 ],
 "metadata": {
  "kernelspec": {
   "display_name": "Python 3",
   "language": "python",
   "name": "python3"
  },
  "language_info": {
   "codemirror_mode": {
    "name": "ipython",
    "version": 3
   },
   "file_extension": ".py",
   "mimetype": "text/x-python",
   "name": "python",
   "nbconvert_exporter": "python",
   "pygments_lexer": "ipython3",
   "version": "3.5.3"
  }
 },
 "nbformat": 4,
 "nbformat_minor": 0
}
